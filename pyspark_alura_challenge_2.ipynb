{
  "cells": [
    {
      "cell_type": "markdown",
      "metadata": {
        "id": "view-in-github",
        "colab_type": "text"
      },
      "source": [
        "<a href=\"https://colab.research.google.com/github/pabloxD13/Bootcamp_Data_Science_Alura_2/blob/main/pyspark_alura_challenge_2.ipynb\" target=\"_parent\"><img src=\"https://colab.research.google.com/assets/colab-badge.svg\" alt=\"Open In Colab\"/></a>"
      ]
    },
    {
      "cell_type": "markdown",
      "metadata": {
        "id": "t3hsm_eopguE"
      },
      "source": [
        "#Realizando instalação do spark e suas dependências"
      ]
    },
    {
      "cell_type": "code",
      "execution_count": null,
      "metadata": {
        "id": "_JO7so_daM7L",
        "colab": {
          "base_uri": "https://localhost:8080/"
        },
        "outputId": "31003d4d-97f0-45aa-82ae-e46c0a1f1932"
      },
      "outputs": [
        {
          "output_type": "stream",
          "name": "stdout",
          "text": [
            "Looking in indexes: https://pypi.org/simple, https://us-python.pkg.dev/colab-wheels/public/simple/\n",
            "Collecting pyspark==3.3.1\n",
            "  Downloading pyspark-3.3.1.tar.gz (281.4 MB)\n",
            "\u001b[K     |████████████████████████████████| 281.4 MB 45 kB/s \n",
            "\u001b[?25hCollecting py4j==0.10.9.5\n",
            "  Downloading py4j-0.10.9.5-py2.py3-none-any.whl (199 kB)\n",
            "\u001b[K     |████████████████████████████████| 199 kB 99.8 MB/s \n",
            "\u001b[?25hBuilding wheels for collected packages: pyspark\n",
            "  Building wheel for pyspark (setup.py) ... \u001b[?25l\u001b[?25hdone\n",
            "  Created wheel for pyspark: filename=pyspark-3.3.1-py2.py3-none-any.whl size=281845512 sha256=4d05af9d6c83dce78858e4550ca56b7d5fa40f6c48c9e94458731359c1c8c4a7\n",
            "  Stored in directory: /root/.cache/pip/wheels/43/dc/11/ec201cd671da62fa9c5cc77078235e40722170ceba231d7598\n",
            "Successfully built pyspark\n",
            "Installing collected packages: py4j, pyspark\n",
            "Successfully installed py4j-0.10.9.5 pyspark-3.3.1\n"
          ]
        }
      ],
      "source": [
        "!pip install pyspark==3.3.1"
      ]
    },
    {
      "cell_type": "code",
      "execution_count": null,
      "metadata": {
        "id": "iV99RavfaY5E"
      },
      "outputs": [],
      "source": [
        "#Spark Session\n",
        "from pyspark.sql import SparkSession\n",
        "\n",
        "spark = SparkSession.builder \\\n",
        "    .master('local[*]') \\\n",
        "    .appName(\"Projeto Insight Places\") \\\n",
        "    .getOrCreate()"
      ]
    },
    {
      "cell_type": "markdown",
      "metadata": {
        "id": "PJnhCIYSpYG0"
      },
      "source": [
        "#Montando Drive e carregando os dados"
      ]
    },
    {
      "cell_type": "code",
      "execution_count": null,
      "metadata": {
        "colab": {
          "base_uri": "https://localhost:8080/"
        },
        "id": "s34CnC7Lac58",
        "outputId": "0a2ea470-6aec-44ba-cd80-83cc9c53cdd7"
      },
      "outputs": [
        {
          "output_type": "stream",
          "name": "stdout",
          "text": [
            "Drive already mounted at /content/drive; to attempt to forcibly remount, call drive.mount(\"/content/drive\", force_remount=True).\n"
          ]
        }
      ],
      "source": [
        "from google.colab import drive\n",
        "drive.mount('/content/drive')"
      ]
    },
    {
      "cell_type": "code",
      "execution_count": null,
      "metadata": {
        "id": "QK6UMit-bA_b"
      },
      "outputs": [],
      "source": [
        "path = '/content/drive/MyDrive/Alura/Challenge_2'"
      ]
    },
    {
      "cell_type": "code",
      "execution_count": null,
      "metadata": {
        "colab": {
          "base_uri": "https://localhost:8080/"
        },
        "id": "SPxH48XUbFxj",
        "outputId": "2589049b-b61b-45fa-d1ec-b297d835ef0e"
      },
      "outputs": [
        {
          "output_type": "stream",
          "name": "stdout",
          "text": [
            "root\n",
            " |-- anuncio: struct (nullable = true)\n",
            " |    |-- andar: long (nullable = true)\n",
            " |    |-- area_total: array (nullable = true)\n",
            " |    |    |-- element: string (containsNull = true)\n",
            " |    |-- area_util: array (nullable = true)\n",
            " |    |    |-- element: string (containsNull = true)\n",
            " |    |-- banheiros: array (nullable = true)\n",
            " |    |    |-- element: long (containsNull = true)\n",
            " |    |-- caracteristicas: array (nullable = true)\n",
            " |    |    |-- element: string (containsNull = true)\n",
            " |    |-- endereco: struct (nullable = true)\n",
            " |    |    |-- bairro: string (nullable = true)\n",
            " |    |    |-- cep: string (nullable = true)\n",
            " |    |    |-- cidade: string (nullable = true)\n",
            " |    |    |-- estado: string (nullable = true)\n",
            " |    |    |-- latitude: double (nullable = true)\n",
            " |    |    |-- longitude: double (nullable = true)\n",
            " |    |    |-- pais: string (nullable = true)\n",
            " |    |    |-- rua: string (nullable = true)\n",
            " |    |    |-- zona: string (nullable = true)\n",
            " |    |-- id: string (nullable = true)\n",
            " |    |-- quartos: array (nullable = true)\n",
            " |    |    |-- element: long (containsNull = true)\n",
            " |    |-- suites: array (nullable = true)\n",
            " |    |    |-- element: long (containsNull = true)\n",
            " |    |-- tipo_anuncio: string (nullable = true)\n",
            " |    |-- tipo_unidade: string (nullable = true)\n",
            " |    |-- tipo_uso: string (nullable = true)\n",
            " |    |-- vaga: array (nullable = true)\n",
            " |    |    |-- element: long (containsNull = true)\n",
            " |    |-- valores: array (nullable = true)\n",
            " |    |    |-- element: struct (containsNull = true)\n",
            " |    |    |    |-- condominio: string (nullable = true)\n",
            " |    |    |    |-- iptu: string (nullable = true)\n",
            " |    |    |    |-- tipo: string (nullable = true)\n",
            " |    |    |    |-- valor: string (nullable = true)\n",
            " |-- imagens: array (nullable = true)\n",
            " |    |-- element: struct (containsNull = true)\n",
            " |    |    |-- id: string (nullable = true)\n",
            " |    |    |-- url: string (nullable = true)\n",
            " |-- usuario: struct (nullable = true)\n",
            " |    |-- id: string (nullable = true)\n",
            " |    |-- nome: string (nullable = true)\n",
            "\n"
          ]
        }
      ],
      "source": [
        "# Carregando os dados e avaliando seus tipos\n",
        "dados = spark.read.json('/content/drive/MyDrive/Alura/Challenge_2/dataset_bruto.json')\n",
        "dados.printSchema()"
      ]
    },
    {
      "cell_type": "markdown",
      "metadata": {
        "id": "PH3KNL7Jev2v"
      },
      "source": [
        "#Seleção da coluna de anúncios"
      ]
    },
    {
      "cell_type": "code",
      "execution_count": null,
      "metadata": {
        "id": "jRTW3Y4ZC7BK"
      },
      "outputs": [],
      "source": [
        "#Selecionando as colunas de anuncio pois são as mais relevantes para as análises\n",
        "anuncio = dados\\\n",
        "    .select(\n",
        "        'anuncio.*'\n",
        "    )"
      ]
    },
    {
      "cell_type": "code",
      "execution_count": null,
      "metadata": {
        "colab": {
          "base_uri": "https://localhost:8080/"
        },
        "id": "vfr0TdrfAx5X",
        "outputId": "a0ff7617-10dc-4939-ce9e-f1771d54c67e"
      },
      "outputs": [
        {
          "output_type": "stream",
          "name": "stdout",
          "text": [
            "+-----+----------+---------+---------+---------------+-------------------------------------------------------------------------------------------------------------+------------------------------------+-------+------+------------+------------+---------+----+--------------------------+\n",
            "|andar|area_total|area_util|banheiros|caracteristicas|endereco                                                                                                     |id                                  |quartos|suites|tipo_anuncio|tipo_unidade|tipo_uso |vaga|valores                   |\n",
            "+-----+----------+---------+---------+---------------+-------------------------------------------------------------------------------------------------------------+------------------------------------+-------+------+------------+------------+---------+----+--------------------------+\n",
            "|0    |[]        |[16]     |[0]      |[]             |{Centro, 20061003, Rio de Janeiro, Rio de Janeiro, -22.906082, -43.18671, BR, Rua Buenos Aires, Zona Central}|47d553e0-79f2-4a46-9390-5a3c962740c2|[0]    |[0]   |Usado       |Outros      |Comercial|[1] |[{260, 107, Venda, 10000}]|\n",
            "|0    |[]        |[14]     |[0]      |[]             |{Centro, 20051040, Rio de Janeiro, Rio de Janeiro, -22.902536, -43.18434, BR, Avenida Passos, Zona Central}  |b6ffbae1-17f6-4870-9950-e998ac1c8d6a|[0]    |[]    |Usado       |Outros      |Comercial|[0] |[{260, 107, Venda, 10000}]|\n",
            "+-----+----------+---------+---------+---------------+-------------------------------------------------------------------------------------------------------------+------------------------------------+-------+------+------------+------------+---------+----+--------------------------+\n",
            "only showing top 2 rows\n",
            "\n"
          ]
        }
      ],
      "source": [
        "anuncio.show(2, truncate = False)"
      ]
    },
    {
      "cell_type": "code",
      "execution_count": null,
      "metadata": {
        "colab": {
          "base_uri": "https://localhost:8080/"
        },
        "id": "xchvcqg9huex",
        "outputId": "cfc9cd9b-0b95-481c-aebb-02d331129243"
      },
      "outputs": [
        {
          "output_type": "stream",
          "name": "stdout",
          "text": [
            "+-----------+-----+\n",
            "|   tipo_uso|count|\n",
            "+-----------+-----+\n",
            "|  Comercial| 4542|\n",
            "|Residencial|84541|\n",
            "+-----------+-----+\n",
            "\n"
          ]
        }
      ],
      "source": [
        "anuncio\\\n",
        "    .select('tipo_uso')\\\n",
        "    .groupBy('tipo_uso')\\\n",
        "    .count()\\\n",
        "    .show()"
      ]
    },
    {
      "cell_type": "code",
      "execution_count": null,
      "metadata": {
        "id": "bIp1cu3qh4BY"
      },
      "outputs": [],
      "source": [
        "anuncio = anuncio.filter(\"tipo_uso == 'Residencial'\")"
      ]
    },
    {
      "cell_type": "code",
      "execution_count": null,
      "metadata": {
        "id": "PE0K0nD7iQki",
        "colab": {
          "base_uri": "https://localhost:8080/"
        },
        "outputId": "5d27d325-3a83-474f-860d-3110274e8d33"
      },
      "outputs": [
        {
          "output_type": "stream",
          "name": "stdout",
          "text": [
            "+------------+-----+\n",
            "|tipo_unidade|count|\n",
            "+------------+-----+\n",
            "|      Outros| 7517|\n",
            "| Apartamento|66797|\n",
            "|        Casa|10227|\n",
            "+------------+-----+\n",
            "\n"
          ]
        }
      ],
      "source": [
        "anuncio\\\n",
        "    .groupBy('tipo_unidade')\\\n",
        "    .count()\\\n",
        "    .show()"
      ]
    },
    {
      "cell_type": "code",
      "execution_count": null,
      "metadata": {
        "id": "pgx_yysyiqm_"
      },
      "outputs": [],
      "source": [
        "anuncio = anuncio.filter(\"tipo_unidade == 'Apartamento'\")"
      ]
    },
    {
      "cell_type": "code",
      "execution_count": null,
      "metadata": {
        "id": "cdw75K_cjAzW"
      },
      "outputs": [],
      "source": [
        "anuncio = anuncio.filter(\"tipo_anuncio == 'Usado'\")"
      ]
    },
    {
      "cell_type": "code",
      "execution_count": null,
      "metadata": {
        "colab": {
          "base_uri": "https://localhost:8080/"
        },
        "id": "o5BBAa-dk84-",
        "outputId": "0cb22e24-634f-45da-b2c4-683596d422c1"
      },
      "outputs": [
        {
          "output_type": "stream",
          "name": "stdout",
          "text": [
            "+-----+----------+---------+---------+--------------------+--------------------+--------------------+-------+------+------------+------------+-----------+----+--------------------+\n",
            "|andar|area_total|area_util|banheiros|     caracteristicas|            endereco|                  id|quartos|suites|tipo_anuncio|tipo_unidade|   tipo_uso|vaga|             valores|\n",
            "+-----+----------+---------+---------+--------------------+--------------------+--------------------+-------+------+------------+------------+-----------+----+--------------------+\n",
            "|    3|      [43]|     [43]|      [1]|[Academia, Churra...|{Paciência, 23585...|d2e3a3aa-09b5-45a...|    [2]|    []|       Usado| Apartamento|Residencial| [1]|[{245, null, Vend...|\n",
            "|    2|      [42]|     [42]|      [1]|[Churrasqueira, P...|{Paciência, 23585...|085bab2c-87ad-452...|    [2]|    []|       Usado| Apartamento|Residencial| [1]|[{0, 0, Venda, 15...|\n",
            "|    1|      [41]|     [41]|      [1]|[Portaria 24h, Co...|{Guaratiba, 23036...|18d22cbe-1b86-476...|    [2]|    []|       Usado| Apartamento|Residencial| [1]|[{0, 0, Venda, 20...|\n",
            "|    3|      [43]|     [43]|      [1]|[Churrasqueira, P...|{Cosmos, 23066271...|bed8a354-9317-442...|    [2]|    []|       Usado| Apartamento|Residencial| [0]|[{285, null, Vend...|\n",
            "|    2|      [43]|     [43]|      [1]|[Academia, Churra...|{Guaratiba, 23036...|12a13315-d67f-48f...|    [2]|    []|       Usado| Apartamento|Residencial| [1]|[{245, null, Vend...|\n",
            "+-----+----------+---------+---------+--------------------+--------------------+--------------------+-------+------+------------+------------+-----------+----+--------------------+\n",
            "only showing top 5 rows\n",
            "\n"
          ]
        }
      ],
      "source": [
        "anuncio.show(5)"
      ]
    },
    {
      "cell_type": "code",
      "execution_count": null,
      "metadata": {
        "id": "-MclXXMTlme3"
      },
      "outputs": [],
      "source": [
        "from pyspark.sql.types import DoubleType, StringType, IntegerType\n",
        "from pyspark.sql import functions as f"
      ]
    },
    {
      "cell_type": "code",
      "execution_count": null,
      "metadata": {
        "colab": {
          "base_uri": "https://localhost:8080/"
        },
        "id": "EzHosSfmk-1t",
        "outputId": "9efd0822-994d-4120-daca-479100731555"
      },
      "outputs": [
        {
          "output_type": "stream",
          "name": "stdout",
          "text": [
            "+-------+-----+\n",
            "|quartos|count|\n",
            "+-------+-----+\n",
            "|      1|66562|\n",
            "+-------+-----+\n",
            "\n"
          ]
        }
      ],
      "source": [
        "anuncio\\\n",
        "    .select(f.size(f.col('quartos')).alias('quartos'))\\\n",
        "    .groupBy('quartos')\\\n",
        "    .count()\\\n",
        "    .show()"
      ]
    },
    {
      "cell_type": "code",
      "execution_count": null,
      "metadata": {
        "id": "I6Lb1dV-l4Y2"
      },
      "outputs": [],
      "source": [
        "caracteristicas = ['quartos', 'suites', 'banheiros', 'vaga', 'area_total', 'area_util']"
      ]
    },
    {
      "cell_type": "code",
      "execution_count": null,
      "metadata": {
        "colab": {
          "base_uri": "https://localhost:8080/"
        },
        "id": "OH1QOrsKmM4V",
        "outputId": "bbf1633b-bd59-4a54-e712-cbd3408f1088"
      },
      "outputs": [
        {
          "output_type": "stream",
          "name": "stdout",
          "text": [
            "+-------+-----+\n",
            "|quartos|count|\n",
            "+-------+-----+\n",
            "|      1|66562|\n",
            "+-------+-----+\n",
            "\n",
            "+------+-----+\n",
            "|suites|count|\n",
            "+------+-----+\n",
            "|     1|61008|\n",
            "|     0| 5554|\n",
            "+------+-----+\n",
            "\n",
            "+---------+-----+\n",
            "|banheiros|count|\n",
            "+---------+-----+\n",
            "|        1|66562|\n",
            "+---------+-----+\n",
            "\n",
            "+----+-----+\n",
            "|vaga|count|\n",
            "+----+-----+\n",
            "|   1|63545|\n",
            "|   0| 3017|\n",
            "+----+-----+\n",
            "\n",
            "+----------+-----+\n",
            "|area_total|count|\n",
            "+----------+-----+\n",
            "|         1|57368|\n",
            "|         0| 9194|\n",
            "+----------+-----+\n",
            "\n",
            "+---------+-----+\n",
            "|area_util|count|\n",
            "+---------+-----+\n",
            "|        1|66562|\n",
            "+---------+-----+\n",
            "\n"
          ]
        }
      ],
      "source": [
        "for col in caracteristicas:\n",
        "    anuncio\\\n",
        "        .select(f.size(f.col(col)).alias(col))\\\n",
        "        .groupBy(col)\\\n",
        "        .count()\\\n",
        "        .show()"
      ]
    },
    {
      "cell_type": "code",
      "execution_count": null,
      "metadata": {
        "id": "iaEoc4sLmXOO"
      },
      "outputs": [],
      "source": [
        "anuncio = anuncio\\\n",
        "    .select([f.col(c)[0].alias(c) if c in caracteristicas else c for c in anuncio.columns])"
      ]
    },
    {
      "cell_type": "code",
      "execution_count": null,
      "metadata": {
        "id": "K0HNM_AgJoE6"
      },
      "outputs": [],
      "source": [
        "#Tranformando as variáveis de StringType para IntegerType\n",
        "anuncio = anuncio.withColumn('area_total', anuncio['area_total'].cast(DoubleType()))\n",
        "anuncio = anuncio.withColumn('area_util', anuncio['area_util'].cast(DoubleType()))\n",
        "anuncio = anuncio.withColumn('banheiros', anuncio['banheiros'].cast(IntegerType()))\n",
        "anuncio = anuncio.withColumn('quartos', anuncio['quartos'].cast(IntegerType()))\n",
        "anuncio = anuncio.withColumn('vaga', anuncio['vaga'].cast(IntegerType()))\n",
        "anuncio = anuncio.withColumn('suites', anuncio['suites'].cast(IntegerType()))"
      ]
    },
    {
      "cell_type": "code",
      "execution_count": null,
      "metadata": {
        "colab": {
          "base_uri": "https://localhost:8080/"
        },
        "id": "MUYTR8sPE46K",
        "outputId": "ea689dc4-1fda-4913-b079-03f759601bd5"
      },
      "outputs": [
        {
          "output_type": "stream",
          "name": "stdout",
          "text": [
            "root\n",
            " |-- andar: long (nullable = true)\n",
            " |-- area_total: double (nullable = true)\n",
            " |-- area_util: double (nullable = true)\n",
            " |-- banheiros: integer (nullable = true)\n",
            " |-- caracteristicas: array (nullable = true)\n",
            " |    |-- element: string (containsNull = true)\n",
            " |-- endereco: struct (nullable = true)\n",
            " |    |-- bairro: string (nullable = true)\n",
            " |    |-- cep: string (nullable = true)\n",
            " |    |-- cidade: string (nullable = true)\n",
            " |    |-- estado: string (nullable = true)\n",
            " |    |-- latitude: double (nullable = true)\n",
            " |    |-- longitude: double (nullable = true)\n",
            " |    |-- pais: string (nullable = true)\n",
            " |    |-- rua: string (nullable = true)\n",
            " |    |-- zona: string (nullable = true)\n",
            " |-- id: string (nullable = true)\n",
            " |-- quartos: integer (nullable = true)\n",
            " |-- suites: integer (nullable = true)\n",
            " |-- tipo_anuncio: string (nullable = true)\n",
            " |-- tipo_unidade: string (nullable = true)\n",
            " |-- tipo_uso: string (nullable = true)\n",
            " |-- vaga: integer (nullable = true)\n",
            " |-- valores: array (nullable = true)\n",
            " |    |-- element: struct (containsNull = true)\n",
            " |    |    |-- condominio: string (nullable = true)\n",
            " |    |    |-- iptu: string (nullable = true)\n",
            " |    |    |-- tipo: string (nullable = true)\n",
            " |    |    |-- valor: string (nullable = true)\n",
            "\n"
          ]
        }
      ],
      "source": [
        "anuncio.printSchema()"
      ]
    },
    {
      "cell_type": "markdown",
      "metadata": {
        "id": "CtCo7ywiXjMm"
      },
      "source": [
        "#Seleção dos campos de endereço"
      ]
    },
    {
      "cell_type": "code",
      "execution_count": null,
      "metadata": {
        "id": "NsyHs5xAnOTd"
      },
      "outputs": [],
      "source": [
        "#Selecionando as colunas Bairro e Zona da coluna endereço.\n",
        "anuncio_end = anuncio\\\n",
        "    .select(['id','endereco.bairro','endereco.zona'])"
      ]
    },
    {
      "cell_type": "code",
      "execution_count": null,
      "metadata": {
        "colab": {
          "base_uri": "https://localhost:8080/"
        },
        "id": "L7VbqOoDEd3c",
        "outputId": "dd486c08-b298-4134-8946-9384099a0849"
      },
      "outputs": [
        {
          "output_type": "stream",
          "name": "stdout",
          "text": [
            "+------------------------------------+---------+----------+\n",
            "|id_endereco                         |bairro   |zona      |\n",
            "+------------------------------------+---------+----------+\n",
            "|d2e3a3aa-09b5-45a0-9dcd-918847cd3ca3|Paciência|Zona Oeste|\n",
            "|085bab2c-87ad-452a-bd0f-8b1451509f84|Paciência|Zona Oeste|\n",
            "+------------------------------------+---------+----------+\n",
            "only showing top 2 rows\n",
            "\n"
          ]
        }
      ],
      "source": [
        "anuncio_end = anuncio_end.withColumnRenamed(\"id\",\"id_endereco\")\n",
        "anuncio_end.show(2, truncate = False)"
      ]
    },
    {
      "cell_type": "code",
      "execution_count": null,
      "metadata": {
        "id": "LTqiyc-NEg52"
      },
      "outputs": [],
      "source": [
        "anuncio = anuncio.join(anuncio_end, anuncio_end.id_endereco == anuncio.id, 'inner')"
      ]
    },
    {
      "cell_type": "code",
      "execution_count": null,
      "metadata": {
        "id": "WK-CutqViFZw"
      },
      "outputs": [],
      "source": [
        "#Retirando as colunas de id e de endereço\n",
        "anuncio = anuncio.drop('id_endereco')\n",
        "anuncio = anuncio.drop('endereco')"
      ]
    },
    {
      "cell_type": "code",
      "execution_count": null,
      "metadata": {
        "colab": {
          "base_uri": "https://localhost:8080/"
        },
        "id": "-hkYR_5vLdOZ",
        "outputId": "9cf244d5-8b34-41f7-8464-36db6e55c15f"
      },
      "outputs": [
        {
          "output_type": "stream",
          "name": "stdout",
          "text": [
            "+-----+----------+---------+---------+-------------------------------------------------------------------------------------------------------------------------------+------------------------------------+-------+------+------------+------------+-----------+----+---------------------------+--------+----------+\n",
            "|andar|area_total|area_util|banheiros|caracteristicas                                                                                                                |id                                  |quartos|suites|tipo_anuncio|tipo_unidade|tipo_uso   |vaga|valores                    |bairro  |zona      |\n",
            "+-----+----------+---------+---------+-------------------------------------------------------------------------------------------------------------------------------+------------------------------------+-------+------+------------+------------+-----------+----+---------------------------+--------+----------+\n",
            "|0    |43.0      |43.0     |1        |[Churrasqueira, Academia, Playground, Salão de festas, Condomínio fechado, Portão eletrônico, Portaria 24h, Animais permitidos]|03a386b6-7ab8-4eff-891d-f8a16efc1989|2      |null  |Usado       |Apartamento |Residencial|1   |[{285, null, Venda, 22999}]|Realengo|Zona Oeste|\n",
            "|0    |44.0      |44.0     |1        |[]                                                                                                                             |1fe78d41-b8e0-4d21-a1a8-72cb7863f441|2      |0     |Usado       |Apartamento |Residencial|0   |[{170, 0, Venda, 110000}]  |Irajá   |Zona Norte|\n",
            "+-----+----------+---------+---------+-------------------------------------------------------------------------------------------------------------------------------+------------------------------------+-------+------+------------+------------+-----------+----+---------------------------+--------+----------+\n",
            "only showing top 2 rows\n",
            "\n"
          ]
        }
      ],
      "source": [
        "anuncio.show(2, truncate=False)"
      ]
    },
    {
      "cell_type": "markdown",
      "metadata": {
        "id": "AI4q_dsuXVtY"
      },
      "source": []
    },
    {
      "cell_type": "markdown",
      "metadata": {
        "id": "iTfJSqFTXb5D"
      },
      "source": [
        "#Transformação dos campos de valores"
      ]
    },
    {
      "cell_type": "code",
      "execution_count": null,
      "metadata": {
        "id": "MOWXraUWL-lx"
      },
      "outputs": [],
      "source": [
        "#Transformando cada campo da coluna \"valores\" em uma coluna separada\n",
        "anuncio_select = anuncio.select(['id','valores.condominio','valores.iptu','valores.tipo','valores.valor'])"
      ]
    },
    {
      "cell_type": "code",
      "execution_count": null,
      "metadata": {
        "id": "w3Nj_LvwS-LH"
      },
      "outputs": [],
      "source": [
        "anuncio_valores = anuncio_select.withColumnRenamed(\"id\",\"id_valores\")"
      ]
    },
    {
      "cell_type": "code",
      "execution_count": null,
      "metadata": {
        "id": "uM8_buajWkaf"
      },
      "outputs": [],
      "source": [
        "# Tranformando as variáveis de array para seu determinado tipo\n",
        "colunas_corrigir_valores = ['condominio', 'iptu', 'tipo', 'valor']\n",
        "anuncio_valores = anuncio_valores.select([f.col(c)[0].alias(c) if c in colunas_corrigir_valores else c for c in anuncio_valores.columns])"
      ]
    },
    {
      "cell_type": "code",
      "execution_count": null,
      "metadata": {
        "id": "YmBSnElYTy6H"
      },
      "outputs": [],
      "source": [
        "anuncio_valores = anuncio_valores.withColumn('condominio', anuncio_valores['condominio'].cast(DoubleType()))\n",
        "anuncio_valores = anuncio_valores.withColumn('iptu', anuncio_valores['iptu'].cast(DoubleType()))\n",
        "anuncio_valores = anuncio_valores.withColumn('valor', anuncio_valores['valor'].cast(DoubleType()))"
      ]
    },
    {
      "cell_type": "code",
      "execution_count": null,
      "metadata": {
        "id": "7S4oPS-PUGg2"
      },
      "outputs": [],
      "source": [
        "anuncio = anuncio.join(anuncio_valores, anuncio_valores['id_valores'] == anuncio.id, 'inner')"
      ]
    },
    {
      "cell_type": "code",
      "execution_count": null,
      "metadata": {
        "id": "O70J462nYoYw"
      },
      "outputs": [],
      "source": [
        "anuncio = anuncio.drop('id_valores')"
      ]
    },
    {
      "cell_type": "code",
      "execution_count": null,
      "metadata": {
        "id": "pV_X5zL9bJFU"
      },
      "outputs": [],
      "source": [
        "anuncio = anuncio.drop('valores')"
      ]
    },
    {
      "cell_type": "code",
      "execution_count": null,
      "metadata": {
        "id": "R1AMtFdEXMHe",
        "colab": {
          "base_uri": "https://localhost:8080/"
        },
        "outputId": "b9330b4e-ac82-45b1-995f-8d8f8e1079dc"
      },
      "outputs": [
        {
          "output_type": "stream",
          "name": "stdout",
          "text": [
            "+-----+----------+---------+---------+-------------------------------------------------------------------------------------------------------------------------------+------------------------------------+-------+------+------------+------------+-----------+----+------------+------------+----------+------+-----+--------+\n",
            "|andar|area_total|area_util|banheiros|caracteristicas                                                                                                                |id                                  |quartos|suites|tipo_anuncio|tipo_unidade|tipo_uso   |vaga|bairro      |zona        |condominio|iptu  |tipo |valor   |\n",
            "+-----+----------+---------+---------+-------------------------------------------------------------------------------------------------------------------------------+------------------------------------+-------+------+------------+------------+-----------+----+------------+------------+----------+------+-----+--------+\n",
            "|0    |43.0      |43.0     |1        |[Churrasqueira, Academia, Playground, Salão de festas, Condomínio fechado, Portão eletrônico, Portaria 24h, Animais permitidos]|03a386b6-7ab8-4eff-891d-f8a16efc1989|2      |null  |Usado       |Apartamento |Residencial|1   |Realengo    |Zona Oeste  |285.0     |null  |Venda|22999.0 |\n",
            "|0    |44.0      |44.0     |1        |[]                                                                                                                             |1fe78d41-b8e0-4d21-a1a8-72cb7863f441|2      |0     |Usado       |Apartamento |Residencial|0   |Irajá       |Zona Norte  |170.0     |0.0   |Venda|110000.0|\n",
            "|4    |null      |55.0     |1        |[]                                                                                                                             |1fa1c1e5-e98c-433f-9675-1b43d7d6da01|2      |0     |Usado       |Apartamento |Residencial|1   |Cosmos      |Zona Oeste  |null      |null  |Venda|115000.0|\n",
            "|2    |null      |55.0     |1        |[]                                                                                                                             |a6ab01ae-3d40-40e7-bb6a-f2334e0abbe0|2      |0     |Usado       |Apartamento |Residencial|0   |Tomás Coelho|Zona Norte  |null      |null  |Venda|115000.0|\n",
            "|0    |null      |50.0     |1        |[]                                                                                                                             |1d8ff7a2-16bd-4e3f-a92e-1b85f923ebb0|1      |null  |Usado       |Apartamento |Residencial|0   |Centro      |Zona Central|1300.0    |2679.0|Venda|125000.0|\n",
            "+-----+----------+---------+---------+-------------------------------------------------------------------------------------------------------------------------------+------------------------------------+-------+------+------------+------------+-----------+----+------------+------------+----------+------+-----+--------+\n",
            "only showing top 5 rows\n",
            "\n"
          ]
        }
      ],
      "source": [
        "anuncio.show(5, truncate = False)"
      ]
    },
    {
      "cell_type": "markdown",
      "metadata": {
        "id": "VekAlxStcBVI"
      },
      "source": [
        "#Filtrando os tipos de negociação"
      ]
    },
    {
      "cell_type": "code",
      "execution_count": null,
      "metadata": {
        "id": "jse7_HeubMxP",
        "colab": {
          "base_uri": "https://localhost:8080/"
        },
        "outputId": "ef96ae0e-1a72-4fe8-8659-6320eabdd487"
      },
      "outputs": [
        {
          "output_type": "stream",
          "name": "stdout",
          "text": [
            "+-------+-----+\n",
            "|   tipo|count|\n",
            "+-------+-----+\n",
            "|Aluguel|  214|\n",
            "|  Venda|66348|\n",
            "+-------+-----+\n",
            "\n"
          ]
        }
      ],
      "source": [
        "anuncio.groupBy('tipo')\\\n",
        "    .count()\\\n",
        "    .show()"
      ]
    },
    {
      "cell_type": "code",
      "execution_count": null,
      "metadata": {
        "id": "_YUk0Wp_ZSK9",
        "colab": {
          "base_uri": "https://localhost:8080/"
        },
        "outputId": "c2885c4c-29bd-4db4-ca64-4cdb3d0c1aca"
      },
      "outputs": [
        {
          "output_type": "stream",
          "name": "stdout",
          "text": [
            "+-----+----------+---------+---------+--------------------+--------------------+-------+------+------------+------------+-----------+----+--------------------+------------+----------+------+-----+--------+\n",
            "|andar|area_total|area_util|banheiros|     caracteristicas|                  id|quartos|suites|tipo_anuncio|tipo_unidade|   tipo_uso|vaga|              bairro|        zona|condominio|  iptu| tipo|   valor|\n",
            "+-----+----------+---------+---------+--------------------+--------------------+-------+------+------------+------------+-----------+----+--------------------+------------+----------+------+-----+--------+\n",
            "|    0|      43.0|     43.0|        1|[Churrasqueira, A...|03a386b6-7ab8-4ef...|      2|  null|       Usado| Apartamento|Residencial|   1|            Realengo|  Zona Oeste|     285.0|  null|Venda| 22999.0|\n",
            "|    0|      44.0|     44.0|        1|                  []|1fe78d41-b8e0-4d2...|      2|     0|       Usado| Apartamento|Residencial|   0|               Irajá|  Zona Norte|     170.0|   0.0|Venda|110000.0|\n",
            "|    4|      null|     55.0|        1|                  []|1fa1c1e5-e98c-433...|      2|     0|       Usado| Apartamento|Residencial|   1|              Cosmos|  Zona Oeste|      null|  null|Venda|115000.0|\n",
            "|    2|      null|     55.0|        1|                  []|a6ab01ae-3d40-40e...|      2|     0|       Usado| Apartamento|Residencial|   0|        Tomás Coelho|  Zona Norte|      null|  null|Venda|115000.0|\n",
            "|    0|      null|     50.0|        1|                  []|1d8ff7a2-16bd-4e3...|      1|  null|       Usado| Apartamento|Residencial|   0|              Centro|Zona Central|    1300.0|2679.0|Venda|125000.0|\n",
            "|    2|      47.0|     47.0|        1|[Condomínio fecha...|40a2cbde-946b-42d...|      2|     0|       Usado| Apartamento|Residencial|   1|        Campo Grande|  Zona Oeste|     380.0|  null|Venda|138000.0|\n",
            "|    0|   17089.0|     45.0|        1|[Churrasqueira, C...|be269ddf-a4a3-4a7...|      2|     0|       Usado| Apartamento|Residencial|   1|        Campo Grande|  Zona Oeste|     356.0|   0.0|Venda|140000.0|\n",
            "|    3|      48.0|     48.0|        1|[Churrasqueira, P...|4b7e3d59-34fd-4ba...|      2|  null|       Usado| Apartamento|Residencial|   1|        Campo Grande|  Zona Oeste|       0.0|   0.0|Venda|150000.0|\n",
            "|    9|      null|     55.0|        1|[Churrasqueira, E...|a1a0c2ac-4fa8-4b0...|      2|  null|       Usado| Apartamento|Residencial|   1|Freguesia (Jacare...|  Zona Oeste|     780.0| 660.0|Venda|160000.0|\n",
            "|    0|      70.0|     70.0|        2|   [Salão de festas]|390d2b88-e06d-47e...|      2|     0|       Usado| Apartamento|Residencial|   1|          Praça Seca|  Zona Oeste|  420000.0|  null|Venda|159000.0|\n",
            "|    2|      50.0|     48.0|        1|[Condomínio fecha...|07bb07c1-21cc-4da...|      1|     0|       Usado| Apartamento|Residencial|   0|             Piedade|  Zona Norte|      10.0|  10.0|Venda|170000.0|\n",
            "|    5|      40.0|     40.0|        1|[Playground, Chur...|7d3a1bae-988c-44b...|      2|     0|       Usado| Apartamento|Residencial|   1|        Braz de Pina|  Zona Norte|     150.0| 120.0|Venda|189000.0|\n",
            "|    0|      65.0|     65.0|        1|                  []|47af17f0-1c81-474...|      2|     0|       Usado| Apartamento|Residencial|   1|            Campinho|  Zona Oeste|     432.0|  null|Venda|185000.0|\n",
            "|    2|      50.0|     50.0|        1|[Condomínio fecha...|a9bd1575-e9f2-43d...|      1|     0|       Usado| Apartamento|Residencial|   1|           Madureira|  Zona Norte|     650.0|   1.0|Venda|185000.0|\n",
            "|    5|      45.0|     45.0|        1|[Academia, Churra...|cfca7253-3d02-4cd...|      2|     1|       Usado| Apartamento|Residencial|   0|             Taquara|  Zona Oeste|     150.0|  40.0|Venda|199000.0|\n",
            "|    0|      48.0|     48.0|        1|[Academia, Condom...|b571ae97-e3d8-4fb...|      2|  null|       Usado| Apartamento|Residencial|   0|          Bonsucesso|  Zona Norte|       0.0|   0.0|Venda|205933.0|\n",
            "|    0|      44.0|     44.0|        1|[Academia, Condom...|eb5fdc65-acae-45f...|      2|  null|       Usado| Apartamento|Residencial|   0|          Bonsucesso|  Zona Norte|       0.0|   0.0|Venda|206000.0|\n",
            "|    2|      64.0|     64.0|        1|                  []|77cd0388-e3ff-40c...|      2|     0|       Usado| Apartamento|Residencial|   0|      Jardim América|  Zona Norte|       0.0|   0.0|Venda|220000.0|\n",
            "|    0|      55.0|     55.0|        2|[Salão de festas,...|74a91f07-7387-4a8...|      1|     0|       Usado| Apartamento|Residencial|   1|        Engenho Novo|  Zona Norte|     600.0| 652.0|Venda|219130.0|\n",
            "|    3|      60.0|     60.0|        1|[Animais permitidos]|6aab1165-508d-455...|      3|     0|       Usado| Apartamento|Residencial|   1|           Cascadura|  Zona Norte|      98.0|   1.0|Venda|230000.0|\n",
            "+-----+----------+---------+---------+--------------------+--------------------+-------+------+------------+------------+-----------+----+--------------------+------------+----------+------+-----+--------+\n",
            "only showing top 20 rows\n",
            "\n"
          ]
        }
      ],
      "source": [
        "anuncio.filter(anuncio['tipo'] == 'Venda').show()"
      ]
    },
    {
      "cell_type": "code",
      "execution_count": null,
      "metadata": {
        "id": "C4us1GHGb-LU"
      },
      "outputs": [],
      "source": [
        "anuncio = anuncio.filter(anuncio['tipo'] == 'Venda')"
      ]
    },
    {
      "cell_type": "code",
      "execution_count": null,
      "metadata": {
        "id": "pEcZGxUFhoZQ",
        "colab": {
          "base_uri": "https://localhost:8080/"
        },
        "outputId": "8137a2a5-a7fc-4dc2-b0ea-27dd5995ff31"
      },
      "outputs": [
        {
          "output_type": "stream",
          "name": "stdout",
          "text": [
            "root\n",
            " |-- andar: long (nullable = true)\n",
            " |-- area_total: double (nullable = true)\n",
            " |-- area_util: double (nullable = true)\n",
            " |-- banheiros: integer (nullable = true)\n",
            " |-- caracteristicas: array (nullable = true)\n",
            " |    |-- element: string (containsNull = true)\n",
            " |-- id: string (nullable = true)\n",
            " |-- quartos: integer (nullable = true)\n",
            " |-- suites: integer (nullable = true)\n",
            " |-- tipo_anuncio: string (nullable = true)\n",
            " |-- tipo_unidade: string (nullable = true)\n",
            " |-- tipo_uso: string (nullable = true)\n",
            " |-- vaga: integer (nullable = true)\n",
            " |-- bairro: string (nullable = true)\n",
            " |-- zona: string (nullable = true)\n",
            " |-- condominio: double (nullable = true)\n",
            " |-- iptu: double (nullable = true)\n",
            " |-- tipo: string (nullable = true)\n",
            " |-- valor: double (nullable = true)\n",
            "\n"
          ]
        }
      ],
      "source": [
        "anuncio.printSchema()"
      ]
    },
    {
      "cell_type": "markdown",
      "metadata": {
        "id": "ENON8Dn5e7P6"
      },
      "source": [
        "#Salvando os arquivos em parquet e csv e comparando o desempenho dos dois"
      ]
    },
    {
      "cell_type": "code",
      "execution_count": null,
      "metadata": {
        "id": "RFRLQkD8cG8k"
      },
      "outputs": [],
      "source": [
        "#Salvando o arquivo em formato parquet\n",
        "anuncio.write.parquet(\n",
        "    path='/content/drive/MyDrive/Alura/Challenge_2/anuncio/parquet', \n",
        "    mode='overwrite')"
      ]
    },
    {
      "cell_type": "code",
      "execution_count": null,
      "metadata": {
        "id": "suNB3j31ntTC",
        "colab": {
          "base_uri": "https://localhost:8080/"
        },
        "outputId": "981a40d6-89d9-47ec-8f7c-a261aefa774e"
      },
      "outputs": [
        {
          "output_type": "stream",
          "name": "stdout",
          "text": [
            "+-----+----------+---------+---------+-------------------------------------------------------------------------------------------------------------------------------+------------------------------------+-------+------+------------+------------+-----------+----+--------+----------+----------+----+-----+--------+\n",
            "|andar|area_total|area_util|banheiros|caracteristicas                                                                                                                |id                                  |quartos|suites|tipo_anuncio|tipo_unidade|tipo_uso   |vaga|bairro  |zona      |condominio|iptu|tipo |valor   |\n",
            "+-----+----------+---------+---------+-------------------------------------------------------------------------------------------------------------------------------+------------------------------------+-------+------+------------+------------+-----------+----+--------+----------+----------+----+-----+--------+\n",
            "|0    |43.0      |43.0     |1        |[Churrasqueira, Academia, Playground, Salão de festas, Condomínio fechado, Portão eletrônico, Portaria 24h, Animais permitidos]|03a386b6-7ab8-4eff-891d-f8a16efc1989|2      |null  |Usado       |Apartamento |Residencial|1   |Realengo|Zona Oeste|285.0     |null|Venda|22999.0 |\n",
            "|0    |44.0      |44.0     |1        |[]                                                                                                                             |1fe78d41-b8e0-4d21-a1a8-72cb7863f441|2      |0     |Usado       |Apartamento |Residencial|0   |Irajá   |Zona Norte|170.0     |0.0 |Venda|110000.0|\n",
            "|4    |null      |55.0     |1        |[]                                                                                                                             |1fa1c1e5-e98c-433f-9675-1b43d7d6da01|2      |0     |Usado       |Apartamento |Residencial|1   |Cosmos  |Zona Oeste|null      |null|Venda|115000.0|\n",
            "+-----+----------+---------+---------+-------------------------------------------------------------------------------------------------------------------------------+------------------------------------+-------+------+------------+------------+-----------+----+--------+----------+----------+----+-----+--------+\n",
            "only showing top 3 rows\n",
            "\n"
          ]
        }
      ],
      "source": [
        "anuncio.show(3, truncate = False)"
      ]
    },
    {
      "cell_type": "code",
      "execution_count": null,
      "metadata": {
        "id": "Rq0ig0mBoCjH"
      },
      "outputs": [],
      "source": [
        "from pyspark.sql.functions import col, concat_ws"
      ]
    },
    {
      "cell_type": "code",
      "execution_count": null,
      "metadata": {
        "id": "_n3cAnhhhS5d"
      },
      "outputs": [],
      "source": [
        "#Transformando a coluna de características e salvando em csv\n",
        "# Transformando a coluna 'caracteristicas' de Array para String\n",
        "anuncio_csv = anuncio.withColumn('caracteristicas', concat_ws(\",\",col(\"caracteristicas\")))"
      ]
    },
    {
      "cell_type": "code",
      "execution_count": null,
      "metadata": {
        "id": "KnUSOtWEm9dA"
      },
      "outputs": [],
      "source": [
        "anuncio_csv.write.csv(\n",
        "    path='/content/drive/MyDrive/Alura/Challenge_2/anuncio/csv',\n",
        "    mode='overwrite',\n",
        "    sep=';',\n",
        "    header=True\n",
        ")"
      ]
    },
    {
      "cell_type": "markdown",
      "metadata": {
        "id": "I8Pw578kveb9"
      },
      "source": [
        "##Calculando tempo para leitura dos arquivos"
      ]
    },
    {
      "cell_type": "code",
      "execution_count": null,
      "metadata": {
        "id": "LbhvkMWUvSal",
        "colab": {
          "base_uri": "https://localhost:8080/"
        },
        "outputId": "9b738111-2c87-4423-ddd2-7d79fd632037"
      },
      "outputs": [
        {
          "output_type": "stream",
          "name": "stdout",
          "text": [
            "+-----+----------+---------+---------+--------------------+--------------------+-------+------+------------+------------+-----------+----+--------------------+------------+----------+------+-----+--------+\n",
            "|andar|area_total|area_util|banheiros|     caracteristicas|                  id|quartos|suites|tipo_anuncio|tipo_unidade|   tipo_uso|vaga|              bairro|        zona|condominio|  iptu| tipo|   valor|\n",
            "+-----+----------+---------+---------+--------------------+--------------------+-------+------+------------+------------+-----------+----+--------------------+------------+----------+------+-----+--------+\n",
            "|    0|      43.0|     43.0|        1|[Churrasqueira, A...|03a386b6-7ab8-4ef...|      2|  null|       Usado| Apartamento|Residencial|   1|            Realengo|  Zona Oeste|     285.0|  null|Venda| 22999.0|\n",
            "|    0|      44.0|     44.0|        1|                  []|1fe78d41-b8e0-4d2...|      2|     0|       Usado| Apartamento|Residencial|   0|               Irajá|  Zona Norte|     170.0|   0.0|Venda|110000.0|\n",
            "|    4|      null|     55.0|        1|                  []|1fa1c1e5-e98c-433...|      2|     0|       Usado| Apartamento|Residencial|   1|              Cosmos|  Zona Oeste|      null|  null|Venda|115000.0|\n",
            "|    2|      null|     55.0|        1|                  []|a6ab01ae-3d40-40e...|      2|     0|       Usado| Apartamento|Residencial|   0|        Tomás Coelho|  Zona Norte|      null|  null|Venda|115000.0|\n",
            "|    0|      null|     50.0|        1|                  []|1d8ff7a2-16bd-4e3...|      1|  null|       Usado| Apartamento|Residencial|   0|              Centro|Zona Central|    1300.0|2679.0|Venda|125000.0|\n",
            "|    2|      47.0|     47.0|        1|[Condomínio fecha...|40a2cbde-946b-42d...|      2|     0|       Usado| Apartamento|Residencial|   1|        Campo Grande|  Zona Oeste|     380.0|  null|Venda|138000.0|\n",
            "|    0|   17089.0|     45.0|        1|[Churrasqueira, C...|be269ddf-a4a3-4a7...|      2|     0|       Usado| Apartamento|Residencial|   1|        Campo Grande|  Zona Oeste|     356.0|   0.0|Venda|140000.0|\n",
            "|    3|      48.0|     48.0|        1|[Churrasqueira, P...|4b7e3d59-34fd-4ba...|      2|  null|       Usado| Apartamento|Residencial|   1|        Campo Grande|  Zona Oeste|       0.0|   0.0|Venda|150000.0|\n",
            "|    9|      null|     55.0|        1|[Churrasqueira, E...|a1a0c2ac-4fa8-4b0...|      2|  null|       Usado| Apartamento|Residencial|   1|Freguesia (Jacare...|  Zona Oeste|     780.0| 660.0|Venda|160000.0|\n",
            "|    0|      70.0|     70.0|        2|   [Salão de festas]|390d2b88-e06d-47e...|      2|     0|       Usado| Apartamento|Residencial|   1|          Praça Seca|  Zona Oeste|  420000.0|  null|Venda|159000.0|\n",
            "|    2|      50.0|     48.0|        1|[Condomínio fecha...|07bb07c1-21cc-4da...|      1|     0|       Usado| Apartamento|Residencial|   0|             Piedade|  Zona Norte|      10.0|  10.0|Venda|170000.0|\n",
            "|    5|      40.0|     40.0|        1|[Playground, Chur...|7d3a1bae-988c-44b...|      2|     0|       Usado| Apartamento|Residencial|   1|        Braz de Pina|  Zona Norte|     150.0| 120.0|Venda|189000.0|\n",
            "|    0|      65.0|     65.0|        1|                  []|47af17f0-1c81-474...|      2|     0|       Usado| Apartamento|Residencial|   1|            Campinho|  Zona Oeste|     432.0|  null|Venda|185000.0|\n",
            "|    2|      50.0|     50.0|        1|[Condomínio fecha...|a9bd1575-e9f2-43d...|      1|     0|       Usado| Apartamento|Residencial|   1|           Madureira|  Zona Norte|     650.0|   1.0|Venda|185000.0|\n",
            "|    5|      45.0|     45.0|        1|[Academia, Churra...|cfca7253-3d02-4cd...|      2|     1|       Usado| Apartamento|Residencial|   0|             Taquara|  Zona Oeste|     150.0|  40.0|Venda|199000.0|\n",
            "|    0|      48.0|     48.0|        1|[Academia, Condom...|b571ae97-e3d8-4fb...|      2|  null|       Usado| Apartamento|Residencial|   0|          Bonsucesso|  Zona Norte|       0.0|   0.0|Venda|205933.0|\n",
            "|    0|      44.0|     44.0|        1|[Academia, Condom...|eb5fdc65-acae-45f...|      2|  null|       Usado| Apartamento|Residencial|   0|          Bonsucesso|  Zona Norte|       0.0|   0.0|Venda|206000.0|\n",
            "|    2|      64.0|     64.0|        1|                  []|77cd0388-e3ff-40c...|      2|     0|       Usado| Apartamento|Residencial|   0|      Jardim América|  Zona Norte|       0.0|   0.0|Venda|220000.0|\n",
            "|    0|      55.0|     55.0|        2|[Salão de festas,...|74a91f07-7387-4a8...|      1|     0|       Usado| Apartamento|Residencial|   1|        Engenho Novo|  Zona Norte|     600.0| 652.0|Venda|219130.0|\n",
            "|    3|      60.0|     60.0|        1|[Animais permitidos]|6aab1165-508d-455...|      3|     0|       Usado| Apartamento|Residencial|   1|           Cascadura|  Zona Norte|      98.0|   1.0|Venda|230000.0|\n",
            "+-----+----------+---------+---------+--------------------+--------------------+-------+------+------------+------------+-----------+----+--------------------+------------+----------+------+-----+--------+\n",
            "only showing top 20 rows\n",
            "\n",
            "CPU times: user 3.34 ms, sys: 752 µs, total: 4.09 ms\n",
            "Wall time: 410 ms\n"
          ]
        }
      ],
      "source": [
        "# Arquivo .parquet\n",
        "%%time\n",
        "\n",
        "parquet_file = spark.read.parquet('/content/drive/MyDrive/Alura/Challenge_2/anuncio/parquet')\n",
        "parquet_file.show()"
      ]
    },
    {
      "cell_type": "code",
      "execution_count": null,
      "metadata": {
        "id": "rxAyrBugvdko",
        "colab": {
          "base_uri": "https://localhost:8080/"
        },
        "outputId": "fd748c49-2ddc-4aae-a6ac-9f76f3f44d27"
      },
      "outputs": [
        {
          "output_type": "stream",
          "name": "stdout",
          "text": [
            "+-----------------------------------------------------------------------------------------------------------------------------------------------------+\n",
            "|andar;area_total;area_util;banheiros;caracteristicas;id;quartos;suites;tipo_anuncio;tipo_unidade;tipo_uso;vaga;bairro;zona;condominio;iptu;tipo;valor|\n",
            "+-----------------------------------------------------------------------------------------------------------------------------------------------------+\n",
            "|                                                                                                                                 0;43.0;43.0;1;Chu...|\n",
            "|                                                                                                                                 0;44.0;44.0;1;\"\";...|\n",
            "|                                                                                                                                 4;;55.0;1;\"\";1fa1...|\n",
            "|                                                                                                                                 2;;55.0;1;\"\";a6ab...|\n",
            "|                                                                                                                                 0;;50.0;1;\"\";1d8f...|\n",
            "|                                                                                                                                 2;47.0;47.0;1;Con...|\n",
            "|                                                                                                                                 0;17089.0;45.0;1;...|\n",
            "|                                                                                                                                 3;48.0;48.0;1;Chu...|\n",
            "|                                                                                                                                 9;;55.0;1;Churras...|\n",
            "|                                                                                                                                 0;70.0;70.0;2;Sal...|\n",
            "|                                                                                                                                 2;50.0;48.0;1;Con...|\n",
            "|                                                                                                                                 5;40.0;40.0;1;Pla...|\n",
            "|                                                                                                                                 0;65.0;65.0;1;\"\";...|\n",
            "|                                                                                                                                 2;50.0;50.0;1;Con...|\n",
            "|                                                                                                                                 5;45.0;45.0;1;Aca...|\n",
            "|                                                                                                                                 0;48.0;48.0;1;Aca...|\n",
            "|                                                                                                                                 0;44.0;44.0;1;Aca...|\n",
            "|                                                                                                                                 2;64.0;64.0;1;\"\";...|\n",
            "|                                                                                                                                 0;55.0;55.0;2;Sal...|\n",
            "|                                                                                                                                 3;60.0;60.0;1;Ani...|\n",
            "+-----------------------------------------------------------------------------------------------------------------------------------------------------+\n",
            "only showing top 20 rows\n",
            "\n",
            "CPU times: user 3.4 ms, sys: 1.04 ms, total: 4.45 ms\n",
            "Wall time: 373 ms\n"
          ]
        }
      ],
      "source": [
        "# Arquivo .csv\n",
        "%%time\n",
        "\n",
        "csv_file = spark.read.option('header',True).csv('/content/drive/MyDrive/Alura/Challenge_2/anuncio/csv')\n",
        "csv_file.show()"
      ]
    },
    {
      "cell_type": "markdown",
      "metadata": {
        "id": "AlDhnNx9wgAk"
      },
      "source": [
        "\n",
        "#Seleção de features"
      ]
    },
    {
      "cell_type": "code",
      "execution_count": null,
      "metadata": {
        "id": "r2MtM-7Lw5Xz",
        "colab": {
          "base_uri": "https://localhost:8080/",
          "height": 240
        },
        "outputId": "f0b431a0-0870-47d2-958b-67615b1aeb0a"
      },
      "outputs": [
        {
          "output_type": "execute_result",
          "data": {
            "text/plain": [
              "   andar  area_total  area_util  banheiros  \\\n",
              "0      0        43.0       43.0          1   \n",
              "1      0        44.0       44.0          1   \n",
              "2      4         NaN       55.0          1   \n",
              "\n",
              "                                     caracteristicas  \\\n",
              "0  [Churrasqueira, Academia, Playground, Salão de...   \n",
              "1                                                 []   \n",
              "2                                                 []   \n",
              "\n",
              "                                     id  quartos  suites tipo_anuncio  \\\n",
              "0  03a386b6-7ab8-4eff-891d-f8a16efc1989        2     NaN        Usado   \n",
              "1  1fe78d41-b8e0-4d21-a1a8-72cb7863f441        2     0.0        Usado   \n",
              "2  1fa1c1e5-e98c-433f-9675-1b43d7d6da01        2     0.0        Usado   \n",
              "\n",
              "  tipo_unidade     tipo_uso  vaga    bairro        zona  condominio  iptu  \\\n",
              "0  Apartamento  Residencial     1  Realengo  Zona Oeste       285.0   NaN   \n",
              "1  Apartamento  Residencial     0     Irajá  Zona Norte       170.0   0.0   \n",
              "2  Apartamento  Residencial     1    Cosmos  Zona Oeste         NaN   NaN   \n",
              "\n",
              "    tipo     valor  \n",
              "0  Venda   22999.0  \n",
              "1  Venda  110000.0  \n",
              "2  Venda  115000.0  "
            ],
            "text/html": [
              "\n",
              "  <div id=\"df-448cd525-12f1-4e5e-a335-54dcb025a52f\">\n",
              "    <div class=\"colab-df-container\">\n",
              "      <div>\n",
              "<style scoped>\n",
              "    .dataframe tbody tr th:only-of-type {\n",
              "        vertical-align: middle;\n",
              "    }\n",
              "\n",
              "    .dataframe tbody tr th {\n",
              "        vertical-align: top;\n",
              "    }\n",
              "\n",
              "    .dataframe thead th {\n",
              "        text-align: right;\n",
              "    }\n",
              "</style>\n",
              "<table border=\"1\" class=\"dataframe\">\n",
              "  <thead>\n",
              "    <tr style=\"text-align: right;\">\n",
              "      <th></th>\n",
              "      <th>andar</th>\n",
              "      <th>area_total</th>\n",
              "      <th>area_util</th>\n",
              "      <th>banheiros</th>\n",
              "      <th>caracteristicas</th>\n",
              "      <th>id</th>\n",
              "      <th>quartos</th>\n",
              "      <th>suites</th>\n",
              "      <th>tipo_anuncio</th>\n",
              "      <th>tipo_unidade</th>\n",
              "      <th>tipo_uso</th>\n",
              "      <th>vaga</th>\n",
              "      <th>bairro</th>\n",
              "      <th>zona</th>\n",
              "      <th>condominio</th>\n",
              "      <th>iptu</th>\n",
              "      <th>tipo</th>\n",
              "      <th>valor</th>\n",
              "    </tr>\n",
              "  </thead>\n",
              "  <tbody>\n",
              "    <tr>\n",
              "      <th>0</th>\n",
              "      <td>0</td>\n",
              "      <td>43.0</td>\n",
              "      <td>43.0</td>\n",
              "      <td>1</td>\n",
              "      <td>[Churrasqueira, Academia, Playground, Salão de...</td>\n",
              "      <td>03a386b6-7ab8-4eff-891d-f8a16efc1989</td>\n",
              "      <td>2</td>\n",
              "      <td>NaN</td>\n",
              "      <td>Usado</td>\n",
              "      <td>Apartamento</td>\n",
              "      <td>Residencial</td>\n",
              "      <td>1</td>\n",
              "      <td>Realengo</td>\n",
              "      <td>Zona Oeste</td>\n",
              "      <td>285.0</td>\n",
              "      <td>NaN</td>\n",
              "      <td>Venda</td>\n",
              "      <td>22999.0</td>\n",
              "    </tr>\n",
              "    <tr>\n",
              "      <th>1</th>\n",
              "      <td>0</td>\n",
              "      <td>44.0</td>\n",
              "      <td>44.0</td>\n",
              "      <td>1</td>\n",
              "      <td>[]</td>\n",
              "      <td>1fe78d41-b8e0-4d21-a1a8-72cb7863f441</td>\n",
              "      <td>2</td>\n",
              "      <td>0.0</td>\n",
              "      <td>Usado</td>\n",
              "      <td>Apartamento</td>\n",
              "      <td>Residencial</td>\n",
              "      <td>0</td>\n",
              "      <td>Irajá</td>\n",
              "      <td>Zona Norte</td>\n",
              "      <td>170.0</td>\n",
              "      <td>0.0</td>\n",
              "      <td>Venda</td>\n",
              "      <td>110000.0</td>\n",
              "    </tr>\n",
              "    <tr>\n",
              "      <th>2</th>\n",
              "      <td>4</td>\n",
              "      <td>NaN</td>\n",
              "      <td>55.0</td>\n",
              "      <td>1</td>\n",
              "      <td>[]</td>\n",
              "      <td>1fa1c1e5-e98c-433f-9675-1b43d7d6da01</td>\n",
              "      <td>2</td>\n",
              "      <td>0.0</td>\n",
              "      <td>Usado</td>\n",
              "      <td>Apartamento</td>\n",
              "      <td>Residencial</td>\n",
              "      <td>1</td>\n",
              "      <td>Cosmos</td>\n",
              "      <td>Zona Oeste</td>\n",
              "      <td>NaN</td>\n",
              "      <td>NaN</td>\n",
              "      <td>Venda</td>\n",
              "      <td>115000.0</td>\n",
              "    </tr>\n",
              "  </tbody>\n",
              "</table>\n",
              "</div>\n",
              "      <button class=\"colab-df-convert\" onclick=\"convertToInteractive('df-448cd525-12f1-4e5e-a335-54dcb025a52f')\"\n",
              "              title=\"Convert this dataframe to an interactive table.\"\n",
              "              style=\"display:none;\">\n",
              "        \n",
              "  <svg xmlns=\"http://www.w3.org/2000/svg\" height=\"24px\"viewBox=\"0 0 24 24\"\n",
              "       width=\"24px\">\n",
              "    <path d=\"M0 0h24v24H0V0z\" fill=\"none\"/>\n",
              "    <path d=\"M18.56 5.44l.94 2.06.94-2.06 2.06-.94-2.06-.94-.94-2.06-.94 2.06-2.06.94zm-11 1L8.5 8.5l.94-2.06 2.06-.94-2.06-.94L8.5 2.5l-.94 2.06-2.06.94zm10 10l.94 2.06.94-2.06 2.06-.94-2.06-.94-.94-2.06-.94 2.06-2.06.94z\"/><path d=\"M17.41 7.96l-1.37-1.37c-.4-.4-.92-.59-1.43-.59-.52 0-1.04.2-1.43.59L10.3 9.45l-7.72 7.72c-.78.78-.78 2.05 0 2.83L4 21.41c.39.39.9.59 1.41.59.51 0 1.02-.2 1.41-.59l7.78-7.78 2.81-2.81c.8-.78.8-2.07 0-2.86zM5.41 20L4 18.59l7.72-7.72 1.47 1.35L5.41 20z\"/>\n",
              "  </svg>\n",
              "      </button>\n",
              "      \n",
              "  <style>\n",
              "    .colab-df-container {\n",
              "      display:flex;\n",
              "      flex-wrap:wrap;\n",
              "      gap: 12px;\n",
              "    }\n",
              "\n",
              "    .colab-df-convert {\n",
              "      background-color: #E8F0FE;\n",
              "      border: none;\n",
              "      border-radius: 50%;\n",
              "      cursor: pointer;\n",
              "      display: none;\n",
              "      fill: #1967D2;\n",
              "      height: 32px;\n",
              "      padding: 0 0 0 0;\n",
              "      width: 32px;\n",
              "    }\n",
              "\n",
              "    .colab-df-convert:hover {\n",
              "      background-color: #E2EBFA;\n",
              "      box-shadow: 0px 1px 2px rgba(60, 64, 67, 0.3), 0px 1px 3px 1px rgba(60, 64, 67, 0.15);\n",
              "      fill: #174EA6;\n",
              "    }\n",
              "\n",
              "    [theme=dark] .colab-df-convert {\n",
              "      background-color: #3B4455;\n",
              "      fill: #D2E3FC;\n",
              "    }\n",
              "\n",
              "    [theme=dark] .colab-df-convert:hover {\n",
              "      background-color: #434B5C;\n",
              "      box-shadow: 0px 1px 3px 1px rgba(0, 0, 0, 0.15);\n",
              "      filter: drop-shadow(0px 1px 2px rgba(0, 0, 0, 0.3));\n",
              "      fill: #FFFFFF;\n",
              "    }\n",
              "  </style>\n",
              "\n",
              "      <script>\n",
              "        const buttonEl =\n",
              "          document.querySelector('#df-448cd525-12f1-4e5e-a335-54dcb025a52f button.colab-df-convert');\n",
              "        buttonEl.style.display =\n",
              "          google.colab.kernel.accessAllowed ? 'block' : 'none';\n",
              "\n",
              "        async function convertToInteractive(key) {\n",
              "          const element = document.querySelector('#df-448cd525-12f1-4e5e-a335-54dcb025a52f');\n",
              "          const dataTable =\n",
              "            await google.colab.kernel.invokeFunction('convertToInteractive',\n",
              "                                                     [key], {});\n",
              "          if (!dataTable) return;\n",
              "\n",
              "          const docLinkHtml = 'Like what you see? Visit the ' +\n",
              "            '<a target=\"_blank\" href=https://colab.research.google.com/notebooks/data_table.ipynb>data table notebook</a>'\n",
              "            + ' to learn more about interactive tables.';\n",
              "          element.innerHTML = '';\n",
              "          dataTable['output_type'] = 'display_data';\n",
              "          await google.colab.output.renderOutput(dataTable, element);\n",
              "          const docLink = document.createElement('div');\n",
              "          docLink.innerHTML = docLinkHtml;\n",
              "          element.appendChild(docLink);\n",
              "        }\n",
              "      </script>\n",
              "    </div>\n",
              "  </div>\n",
              "  "
            ]
          },
          "metadata": {},
          "execution_count": 46
        }
      ],
      "source": [
        "anuncio.limit(3).toPandas()"
      ]
    },
    {
      "cell_type": "code",
      "execution_count": null,
      "metadata": {
        "id": "EBh1WhAmjRAb",
        "colab": {
          "base_uri": "https://localhost:8080/"
        },
        "outputId": "b2450bb0-77ed-4026-e395-3d1bc1c82564"
      },
      "outputs": [
        {
          "output_type": "stream",
          "name": "stdout",
          "text": [
            "root\n",
            " |-- andar: long (nullable = true)\n",
            " |-- area_total: double (nullable = true)\n",
            " |-- area_util: double (nullable = true)\n",
            " |-- banheiros: integer (nullable = true)\n",
            " |-- caracteristicas: array (nullable = true)\n",
            " |    |-- element: string (containsNull = true)\n",
            " |-- id: string (nullable = true)\n",
            " |-- quartos: integer (nullable = true)\n",
            " |-- suites: integer (nullable = true)\n",
            " |-- tipo_anuncio: string (nullable = true)\n",
            " |-- tipo_unidade: string (nullable = true)\n",
            " |-- tipo_uso: string (nullable = true)\n",
            " |-- vaga: integer (nullable = true)\n",
            " |-- bairro: string (nullable = true)\n",
            " |-- zona: string (nullable = true)\n",
            " |-- condominio: double (nullable = true)\n",
            " |-- iptu: double (nullable = true)\n",
            " |-- tipo: string (nullable = true)\n",
            " |-- valor: double (nullable = true)\n",
            "\n"
          ]
        }
      ],
      "source": [
        "anuncio.printSchema()"
      ]
    },
    {
      "cell_type": "code",
      "execution_count": null,
      "metadata": {
        "id": "GvBodOtWjgHF"
      },
      "outputs": [],
      "source": [
        "#Verificando a semelhança das colunas area_total e area_util \n",
        "areas_iguais = anuncio.where(anuncio[\"area_total\"] == anuncio[\"area_util\"]).count()\n",
        "total = anuncio.count()"
      ]
    },
    {
      "cell_type": "code",
      "execution_count": null,
      "metadata": {
        "id": "MBpFmt0Wi4bT",
        "colab": {
          "base_uri": "https://localhost:8080/"
        },
        "outputId": "ac950156-9117-4da9-d887-0b41a83b6864"
      },
      "outputs": [
        {
          "output_type": "stream",
          "name": "stdout",
          "text": [
            "O número de valores iguais de área total e area útil é: 55185\n",
            " Isso representa 83.18% do dataset\n"
          ]
        }
      ],
      "source": [
        "print(f\"O número de valores iguais de área total e area útil é: {areas_iguais}\\n Isso representa {areas_iguais/total*100:.2f}% do dataset\")"
      ]
    },
    {
      "cell_type": "code",
      "execution_count": null,
      "metadata": {
        "id": "7POfne2Jg0og",
        "colab": {
          "base_uri": "https://localhost:8080/"
        },
        "outputId": "3ec04bc3-796a-480e-b8d0-b7d1abf6f8d1"
      },
      "outputs": [
        {
          "output_type": "stream",
          "name": "stdout",
          "text": [
            "+---------+----------+\n",
            "|area_util|area_total|\n",
            "+---------+----------+\n",
            "|        0|      9186|\n",
            "+---------+----------+\n",
            "\n"
          ]
        }
      ],
      "source": [
        "#Vemos que a coluna area_total tem 9186 valores nulos, ou seja, essa coluna pode ser excluída de nosso dataset devido a sua semelhança coma coluna area_util e seu número de valores nulos\n",
        "anuncio\\\n",
        "    .select([f.count(f.when(f.isnan(c) | f.isnull(c), True)).alias(c) for c in ['area_util', 'area_total']])\\\n",
        "    .show()"
      ]
    },
    {
      "cell_type": "code",
      "execution_count": null,
      "metadata": {
        "id": "4jMqOKXZhGfn"
      },
      "outputs": [],
      "source": [
        "anuncio = anuncio.drop('area_total')"
      ]
    },
    {
      "cell_type": "code",
      "source": [
        "#Separando as características de nosso dataset\n",
        "anuncio_sup = anuncio.select(f.explode('caracteristicas')).distinct().show()"
      ],
      "metadata": {
        "colab": {
          "base_uri": "https://localhost:8080/"
        },
        "id": "SgbUjPCEIkzi",
        "outputId": "f3403d46-2e0d-43a9-b63a-b78a2146b828"
      },
      "execution_count": null,
      "outputs": [
        {
          "output_type": "stream",
          "name": "stdout",
          "text": [
            "+------------------+\n",
            "|               col|\n",
            "+------------------+\n",
            "|Condomínio fechado|\n",
            "|        Playground|\n",
            "| Portão eletrônico|\n",
            "|           Piscina|\n",
            "|Animais permitidos|\n",
            "|      Portaria 24h|\n",
            "|          Elevador|\n",
            "|          Academia|\n",
            "|   Salão de festas|\n",
            "|     Churrasqueira|\n",
            "+------------------+\n",
            "\n"
          ]
        }
      ]
    },
    {
      "cell_type": "code",
      "source": [
        "lista_caracteristicas = ['Condomínio fechado','Playground','Portão eletrônico','Piscina','Animais permitidos','Portaria 24h'\\\n",
        "                         ,'Elevador','Academia','Salão de festas','Churrasqueira']"
      ],
      "metadata": {
        "id": "BI-c0Xr2JWly"
      },
      "execution_count": null,
      "outputs": []
    },
    {
      "cell_type": "code",
      "source": [
        "for coluna in lista_caracteristicas:\n",
        "  anuncio = anuncio.withColumn(coluna,f.when(f.array_contains(f.col(\"caracteristicas\"),coluna) == 'true',f.lit(1)).otherwise(0))"
      ],
      "metadata": {
        "id": "Y4yRxA1jL76E"
      },
      "execution_count": null,
      "outputs": []
    },
    {
      "cell_type": "code",
      "source": [
        "anuncio = anuncio.drop('caracteristicas')"
      ],
      "metadata": {
        "id": "yzmFJZU8NsSL"
      },
      "execution_count": null,
      "outputs": []
    },
    {
      "cell_type": "markdown",
      "source": [
        "#Tratamento de dados nulos"
      ],
      "metadata": {
        "id": "X61mQZdMNM4t"
      }
    },
    {
      "cell_type": "code",
      "source": [
        "anuncio\\\n",
        "    .select([f.count(f.when(f.isnan(c) | f.isnull(c), True)).alias(c) for c in anuncio.columns])\\\n",
        "    .show()"
      ],
      "metadata": {
        "colab": {
          "base_uri": "https://localhost:8080/"
        },
        "id": "eyNXZ3stMLMY",
        "outputId": "e0d145ff-aa65-4c24-8323-7e255e7a8b1d"
      },
      "execution_count": null,
      "outputs": [
        {
          "output_type": "stream",
          "name": "stdout",
          "text": [
            "+-----+---------+---------+---+-------+------+------------+------------+--------+----+------+----+----------+----+----+-----+------------------+----------+-----------------+-------+------------------+------------+--------+--------+---------------+-------------+\n",
            "|andar|area_util|banheiros| id|quartos|suites|tipo_anuncio|tipo_unidade|tipo_uso|vaga|bairro|zona|condominio|iptu|tipo|valor|Condomínio fechado|Playground|Portão eletrônico|Piscina|Animais permitidos|Portaria 24h|Elevador|Academia|Salão de festas|Churrasqueira|\n",
            "+-----+---------+---------+---+-------+------+------------+------------+--------+----+------+----+----------+----+----+-----+------------------+----------+-----------------+-------+------------------+------------+--------+--------+---------------+-------------+\n",
            "|    0|        0|        0|  0|      0|  5544|           0|           0|       0|3008|     0|   0|      2347|7155|   0|    0|                 0|         0|                0|      0|                 0|           0|       0|       0|              0|            0|\n",
            "+-----+---------+---------+---+-------+------+------------+------------+--------+----+------+----+----------+----+----+-----+------------------+----------+-----------------+-------+------------------+------------+--------+--------+---------------+-------------+\n",
            "\n"
          ]
        }
      ]
    },
    {
      "cell_type": "markdown",
      "source": [],
      "metadata": {
        "id": "xU2rLDp9X09W"
      }
    },
    {
      "cell_type": "code",
      "source": [
        "#Utilizando a biblioteca ml para substituir os dados faltantes pela mediana dos dados\n",
        "from pyspark.ml.feature import Imputer\n",
        "\n",
        "imputer = Imputer(\n",
        "    inputCols=['suites', 'vaga', 'condominio', 'iptu'], \n",
        "    outputCols=['suites', 'vaga', 'condominio', 'iptu']\n",
        "    ).setStrategy(\"median\")"
      ],
      "metadata": {
        "id": "YzZI8atpNfOB"
      },
      "execution_count": null,
      "outputs": []
    },
    {
      "cell_type": "code",
      "source": [
        "anuncio = imputer.fit(anuncio).transform(anuncio)"
      ],
      "metadata": {
        "id": "sgF-RClzQHmU"
      },
      "execution_count": null,
      "outputs": []
    },
    {
      "cell_type": "code",
      "source": [
        "#Existem valores cuja zona está vazia, esses dados serão retirados do dataset\n",
        "anuncio\\\n",
        "    .groupBy('zona')\\\n",
        "    .count()\\\n",
        "    .orderBy('count', ascending = False)\\\n",
        "    .show(5)"
      ],
      "metadata": {
        "colab": {
          "base_uri": "https://localhost:8080/"
        },
        "id": "Y3ftgZ5HQJa3",
        "outputId": "7b42ef72-4032-44e8-dd55-0c9f8613ef5b"
      },
      "execution_count": null,
      "outputs": [
        {
          "output_type": "stream",
          "name": "stdout",
          "text": [
            "+------------+-----+\n",
            "|        zona|count|\n",
            "+------------+-----+\n",
            "|  Zona Oeste|32879|\n",
            "|    Zona Sul|20471|\n",
            "|  Zona Norte|11853|\n",
            "|Zona Central| 1134|\n",
            "|            |   11|\n",
            "+------------+-----+\n",
            "\n"
          ]
        }
      ]
    },
    {
      "cell_type": "markdown",
      "source": [],
      "metadata": {
        "id": "IZuKPDFqQnwS"
      }
    },
    {
      "cell_type": "code",
      "source": [
        "anuncio = anuncio\\\n",
        "    .where(f.col('zona') != '')"
      ],
      "metadata": {
        "id": "TPfRKwjzQiH6"
      },
      "execution_count": null,
      "outputs": []
    },
    {
      "cell_type": "code",
      "source": [
        "#Criando as variáveis dummy para a coluna de zona\n",
        "zona = anuncio\\\n",
        "    .groupBy('id')\\\n",
        "    .pivot('zona')\\\n",
        "    .agg(f.lit(1))\\\n",
        "    .na\\\n",
        "    .fill(0)\n"
      ],
      "metadata": {
        "id": "G46njRK1RX_v"
      },
      "execution_count": null,
      "outputs": []
    },
    {
      "cell_type": "code",
      "source": [
        "anuncio = anuncio\\\n",
        "    .join(zona, 'id', how='inner')"
      ],
      "metadata": {
        "id": "fV4nVnquRZ0w"
      },
      "execution_count": null,
      "outputs": []
    },
    {
      "cell_type": "code",
      "source": [
        "anuncio = anuncio.drop('zona')"
      ],
      "metadata": {
        "id": "lYveLV8ySuzh"
      },
      "execution_count": null,
      "outputs": []
    },
    {
      "cell_type": "markdown",
      "source": [
        "#Salvado o arquivo em formato Parquet"
      ],
      "metadata": {
        "id": "mndYJiIDTLGz"
      }
    },
    {
      "cell_type": "code",
      "source": [
        "# No dataset há colunas com acento e letras maiusculas em seus nomes\n",
        "colunas = anuncio.columns\n",
        "colunas"
      ],
      "metadata": {
        "colab": {
          "base_uri": "https://localhost:8080/"
        },
        "id": "x7lewnY1TTkb",
        "outputId": "2a3c1a6d-e276-4017-9494-7aa62c458142"
      },
      "execution_count": null,
      "outputs": [
        {
          "output_type": "execute_result",
          "data": {
            "text/plain": [
              "['id',\n",
              " 'andar',\n",
              " 'area_util',\n",
              " 'banheiros',\n",
              " 'quartos',\n",
              " 'suites',\n",
              " 'tipo_anuncio',\n",
              " 'tipo_unidade',\n",
              " 'tipo_uso',\n",
              " 'vaga',\n",
              " 'bairro',\n",
              " 'condominio',\n",
              " 'iptu',\n",
              " 'tipo',\n",
              " 'valor',\n",
              " 'Condomínio fechado',\n",
              " 'Playground',\n",
              " 'Portão eletrônico',\n",
              " 'Piscina',\n",
              " 'Animais permitidos',\n",
              " 'Portaria 24h',\n",
              " 'Elevador',\n",
              " 'Academia',\n",
              " 'Salão de festas',\n",
              " 'Churrasqueira',\n",
              " 'Zona Central',\n",
              " 'Zona Norte',\n",
              " 'Zona Oeste',\n",
              " 'Zona Sul']"
            ]
          },
          "metadata": {},
          "execution_count": 64
        }
      ]
    },
    {
      "cell_type": "code",
      "source": [
        "colunas_novas = [\n",
        "    'id',\n",
        "    'andar',\n",
        "    'area_util',\n",
        "    'banheiros',\n",
        "    'quartos',\n",
        "    'suites',\n",
        "    'tipo_anuncio',\n",
        "    'tipo_unidade',\n",
        "    'tipo_uso',\n",
        "    'vaga',\n",
        "    'bairro',\n",
        "    'condominio',\n",
        "    'iptu',\n",
        "    'tipo',\n",
        "    'valor',\n",
        "    'condominio_fechado',\n",
        "    'playground',\n",
        "    'portao_eletronico',\n",
        "    'piscina',\n",
        "    'animais_permitidos',\n",
        "    'portaria_24h',\n",
        "    'elevador',\n",
        "    'academia',\n",
        "    'salao_de_festas',\n",
        "    'churrasqueira',\n",
        "    'zona_central',\n",
        "    'zona_norte',\n",
        "    'zona_oeste',\n",
        "    'zona_sul',    \n",
        "]"
      ],
      "metadata": {
        "id": "dSv7B0q2TbL-"
      },
      "execution_count": null,
      "outputs": []
    },
    {
      "cell_type": "code",
      "source": [
        "colunas_nomes = zip(colunas, colunas_novas)"
      ],
      "metadata": {
        "id": "2ZuhCYk9Ti-Z"
      },
      "execution_count": null,
      "outputs": []
    },
    {
      "cell_type": "code",
      "source": [
        "for colunas, novas in colunas_nomes:\n",
        "  anuncio = anuncio.withColumnRenamed(colunas, novas)\n",
        "  "
      ],
      "metadata": {
        "id": "7KB_4BwDTnym"
      },
      "execution_count": null,
      "outputs": []
    },
    {
      "cell_type": "code",
      "source": [],
      "metadata": {
        "id": "jEhsnitlbFP6"
      },
      "execution_count": null,
      "outputs": []
    },
    {
      "cell_type": "code",
      "source": [
        "anuncio.show(3,False)"
      ],
      "metadata": {
        "colab": {
          "base_uri": "https://localhost:8080/"
        },
        "id": "2h_37S90Ts3a",
        "outputId": "86290b76-8432-4bb0-d40a-863652db82e5"
      },
      "execution_count": null,
      "outputs": [
        {
          "output_type": "stream",
          "name": "stdout",
          "text": [
            "+------------------------------------+-----+---------+---------+-------+------+------------+------------+-----------+----+-----------+----------+------+-----+---------+------------------+----------+-----------------+-------+------------------+------------+--------+--------+---------------+-------------+------------+----------+----------+--------+\n",
            "|id                                  |andar|area_util|banheiros|quartos|suites|tipo_anuncio|tipo_unidade|tipo_uso   |vaga|bairro     |condominio|iptu  |tipo |valor    |condominio_fechado|playground|portao_eletronico|piscina|animais_permitidos|portaria_24h|elevador|academia|salao_de_festas|churrasqueira|zona_central|zona_norte|zona_oeste|zona_sul|\n",
            "+------------------------------------+-----+---------+---------+-------+------+------------+------------+-----------+----+-----------+----------+------+-----+---------+------------------+----------+-----------------+-------+------------------+------------+--------+--------+---------------+-------------+------------+----------+----------+--------+\n",
            "|00012605-9cae-45b3-82a2-f09d117fa7a4|0    |410.0    |3        |4      |1     |Usado       |Apartamento |Residencial|1   |Ipanema    |3300.0    |5780.0|Venda|4600000.0|0                 |0         |0                |0      |0                 |0           |1       |0       |0              |0            |0           |0         |0         |1       |\n",
            "|0002dfaf-7735-481b-8523-8f59fb87e4e1|1    |50.0     |1        |1      |1     |Usado       |Apartamento |Residencial|1   |Vila Isabel|500.0     |600.0 |Venda|360000.0 |0                 |0         |1                |0      |1                 |0           |1       |0       |1              |0            |0           |1         |0         |0       |\n",
            "|0003ce76-949d-4841-90ec-7abea911ce6a|0    |148.0    |4        |4      |2     |Usado       |Apartamento |Residencial|2   |Jacarepaguá|0.0       |0.0   |Venda|1200000.0|0                 |0         |0                |1      |0                 |0           |1       |0       |0              |1            |0           |0         |1         |0       |\n",
            "+------------------------------------+-----+---------+---------+-------+------+------------+------------+-----------+----+-----------+----------+------+-----+---------+------------------+----------+-----------------+-------+------------------+------------+--------+--------+---------------+-------------+------------+----------+----------+--------+\n",
            "only showing top 3 rows\n",
            "\n"
          ]
        }
      ]
    },
    {
      "cell_type": "code",
      "source": [
        "anuncio.withColumnRenamed('salao_de_festas', 'churrasqueira')"
      ],
      "metadata": {
        "colab": {
          "base_uri": "https://localhost:8080/"
        },
        "id": "mMIi0fbfYHiR",
        "outputId": "94fbc3cb-87de-4bc5-c0bc-215fdc5e5b68"
      },
      "execution_count": null,
      "outputs": [
        {
          "output_type": "execute_result",
          "data": {
            "text/plain": [
              "DataFrame[id: string, andar: bigint, area_util: double, banheiros: int, quartos: int, suites: int, tipo_anuncio: string, tipo_unidade: string, tipo_uso: string, vaga: int, bairro: string, condominio: double, iptu: double, tipo: string, valor: double, condominio_fechado: int, playground: int, portao_eletronico: int, piscina: int, animais_permitidos: int, portaria_24h: int, elevador: int, academia: int, churrasqueira: int, churrasqueira: int, zona_central: int, zona_norte: int, zona_oeste: int, zona_sul: int]"
            ]
          },
          "metadata": {},
          "execution_count": 69
        }
      ]
    },
    {
      "cell_type": "code",
      "source": [
        "#Salvando o arquivo preparado para modelagem em formato parquet\n",
        "anuncio.write.parquet(\n",
        "    path='/content/drive/MyDrive/Alura/Challenge_2/anuncio/parquet', \n",
        "    mode='overwrite')"
      ],
      "metadata": {
        "id": "z9iiSwUgR_jQ"
      },
      "execution_count": null,
      "outputs": []
    },
    {
      "cell_type": "markdown",
      "source": [
        "#Vetorização dos dados e preparação para machine learning"
      ],
      "metadata": {
        "id": "5CIoQGYzSeXO"
      }
    },
    {
      "cell_type": "code",
      "source": [
        "from pyspark.ml.feature import VectorAssembler\n"
      ],
      "metadata": {
        "id": "tOSbYrvpSLUm"
      },
      "execution_count": null,
      "outputs": []
    },
    {
      "cell_type": "code",
      "source": [
        "anuncio = anuncio.withColumnRenamed('valor','label')\n"
      ],
      "metadata": {
        "id": "Q9fN5oJPa1t8"
      },
      "execution_count": null,
      "outputs": []
    },
    {
      "cell_type": "code",
      "source": [
        "X = [\n",
        "    'andar',\n",
        "    'area_util',\n",
        "    'banheiros',\n",
        "    'quartos',\n",
        "    'suites',\n",
        "    'vaga',\n",
        "    'condominio',\n",
        "    'iptu',\n",
        "    'condominio_fechado',\n",
        "    'playground',\n",
        "    'portao_eletronico',\n",
        "    'piscina',\n",
        "    'animais_permitidos',\n",
        "    'portaria_24h',\n",
        "    'elevador',\n",
        "    'academia',\n",
        "    'salao_de_festas',\n",
        "    'churrasqueira',\n",
        "    'zona_central',\n",
        "    'zona_norte',\n",
        "    'zona_oeste',\n",
        "    'zona_sul',   \n",
        "]\n"
      ],
      "metadata": {
        "id": "OTUmikjnbDmr"
      },
      "execution_count": null,
      "outputs": []
    },
    {
      "cell_type": "code",
      "source": [
        "assembler = VectorAssembler(inputCols = X, outputCol = 'features')\n"
      ],
      "metadata": {
        "id": "H58NfwxdbRjT"
      },
      "execution_count": null,
      "outputs": []
    },
    {
      "cell_type": "code",
      "source": [
        "anuncio_prep = assembler.transform(anuncio).select('features', 'label')\n"
      ],
      "metadata": {
        "id": "jp8uKvFPbVom"
      },
      "execution_count": null,
      "outputs": []
    },
    {
      "cell_type": "code",
      "source": [
        "anuncio_prep.show(10, truncate=False)\n"
      ],
      "metadata": {
        "colab": {
          "base_uri": "https://localhost:8080/"
        },
        "id": "xtNos0UTbc0k",
        "outputId": "da202450-8899-47ae-e48d-f7ef5f691815"
      },
      "execution_count": null,
      "outputs": [
        {
          "output_type": "stream",
          "name": "stdout",
          "text": [
            "+-------------------------------------------------------------------------------------------------+---------+\n",
            "|features                                                                                         |label    |\n",
            "+-------------------------------------------------------------------------------------------------+---------+\n",
            "|(22,[1,2,3,4,5,6,7,14,21],[410.0,3.0,4.0,1.0,1.0,3300.0,5780.0,1.0,1.0])                         |4600000.0|\n",
            "|(22,[0,1,2,3,4,5,6,7,10,12,14,16,19],[1.0,50.0,1.0,1.0,1.0,1.0,500.0,600.0,1.0,1.0,1.0,1.0,1.0]) |360000.0 |\n",
            "|(22,[1,2,3,4,5,11,14,17,20],[148.0,4.0,4.0,2.0,2.0,1.0,1.0,1.0,1.0])                             |1200000.0|\n",
            "|(22,[1,2,3,6,7,14,21],[104.0,1.0,2.0,1010.0,272.0,1.0,1.0])                                      |750000.0 |\n",
            "|(22,[1,2,3,4,5,6,7,14,21],[71.0,2.0,2.0,1.0,1.0,1312.0,360.0,1.0,1.0])                           |1025000.0|\n",
            "|[3.0,115.0,2.0,3.0,0.0,0.0,1904.0,3831.0,1.0,1.0,1.0,0.0,1.0,1.0,1.0,0.0,1.0,0.0,0.0,0.0,0.0,1.0]|1100000.0|\n",
            "|[0.0,65.0,1.0,2.0,0.0,0.0,0.0,0.0,1.0,1.0,1.0,1.0,1.0,1.0,1.0,1.0,1.0,1.0,0.0,0.0,1.0,0.0]       |593036.0 |\n",
            "|[1.0,74.0,2.0,2.0,1.0,1.0,1.0,1.0,1.0,1.0,1.0,1.0,1.0,1.0,1.0,1.0,1.0,1.0,0.0,0.0,1.0,0.0]       |1031576.0|\n",
            "|(22,[0,1,2,3,4,6,7,10,12,14,21],[5.0,100.0,3.0,3.0,1.0,2081.0,240.0,1.0,1.0,1.0,1.0])            |800000.0 |\n",
            "|(22,[0,1,2,3,4,5,6,7,20],[11.0,105.0,3.0,3.0,1.0,2.0,1400.0,281.0,1.0])                          |1150000.0|\n",
            "+-------------------------------------------------------------------------------------------------+---------+\n",
            "only showing top 10 rows\n",
            "\n"
          ]
        }
      ]
    },
    {
      "cell_type": "markdown",
      "source": [
        "#Analisando a correlação dos dados"
      ],
      "metadata": {
        "id": "BMdl95mTb3_h"
      }
    },
    {
      "cell_type": "code",
      "source": [
        "from pyspark.ml.stat import Correlation\n",
        "import pandas as pd"
      ],
      "metadata": {
        "id": "bIVO7Ma4bwl2"
      },
      "execution_count": null,
      "outputs": []
    },
    {
      "cell_type": "code",
      "source": [
        "correlacao = Correlation.corr(anuncio_prep, 'features').collect()[0][0]"
      ],
      "metadata": {
        "id": "NC0UhxFBb_Jt"
      },
      "execution_count": null,
      "outputs": []
    },
    {
      "cell_type": "code",
      "source": [
        "anuncio_correlacao = pd.DataFrame(correlacao.toArray(), columns=X, index=X)\n"
      ],
      "metadata": {
        "id": "jJQDUr8JcLNr"
      },
      "execution_count": null,
      "outputs": []
    },
    {
      "cell_type": "code",
      "source": [
        "import matplotlib.pyplot as plt\n",
        "import seaborn as sns\n",
        "plt.figure(figsize=(18,14))\n",
        "paleta = sns.color_palette(\"light:salmon\", as_cmap=True)\n",
        "sns.heatmap(anuncio_correlacao.round(2), annot=True, cmap=paleta)\n"
      ],
      "metadata": {
        "colab": {
          "base_uri": "https://localhost:8080/",
          "height": 923
        },
        "id": "ECq0dhyocrGs",
        "outputId": "9b771a86-51be-485b-ade8-679a2e1b3ac7"
      },
      "execution_count": null,
      "outputs": [
        {
          "output_type": "execute_result",
          "data": {
            "text/plain": [
              "<matplotlib.axes._subplots.AxesSubplot at 0x7ff8f63de130>"
            ]
          },
          "metadata": {},
          "execution_count": 80
        },
        {
          "output_type": "display_data",
          "data": {
            "text/plain": [
              "<Figure size 1296x1008 with 2 Axes>"
            ],
            "image/png": "[encoded data removed]"
          },
          "metadata": {
            "needs_background": "light"
          }
        }
      ]
    },
    {
      "cell_type": "markdown",
      "source": [
        "Lembrar de fazer comentários sobre o mapa de correlação"
      ],
      "metadata": {
        "id": "hvF6L1p8kZGd"
      }
    },
    {
      "cell_type": "markdown",
      "source": [
        "#Preparação e criação dos modelos de Machine Learning"
      ],
      "metadata": {
        "id": "7udRDU-2dPjs"
      }
    },
    {
      "cell_type": "code",
      "source": [
        "from pyspark.ml.regression import LinearRegression"
      ],
      "metadata": {
        "id": "EQcx3deKc698"
      },
      "execution_count": null,
      "outputs": []
    },
    {
      "cell_type": "code",
      "source": [
        "treino, teste = anuncio_prep.randomSplit([0.7, 0.3], seed=101)"
      ],
      "metadata": {
        "id": "EJ0sMXaEd0rj"
      },
      "execution_count": null,
      "outputs": []
    },
    {
      "cell_type": "code",
      "source": [
        "lr = LinearRegression()"
      ],
      "metadata": {
        "id": "EwwucHmzd6ED"
      },
      "execution_count": null,
      "outputs": []
    },
    {
      "cell_type": "code",
      "source": [
        "modelo_lr = lr.fit(treino)"
      ],
      "metadata": {
        "id": "nRrhkC3Ye9Tz"
      },
      "execution_count": null,
      "outputs": []
    },
    {
      "cell_type": "code",
      "source": [
        "previsoes_lr_treino = modelo_lr.transform(treino)\n",
        "\n",
        "previsoes_lr_treino.show()"
      ],
      "metadata": {
        "id": "fRFcRrs1e_kr",
        "colab": {
          "base_uri": "https://localhost:8080/"
        },
        "outputId": "dd6b7402-7ce3-47bf-b68a-d4348c21e4d1"
      },
      "execution_count": null,
      "outputs": [
        {
          "output_type": "stream",
          "name": "stdout",
          "text": [
            "+--------------------+---------+------------------+\n",
            "|            features|    label|        prediction|\n",
            "+--------------------+---------+------------------+\n",
            "|(22,[0,1,2,3,4,5,...| 500000.0| 704255.0750946889|\n",
            "|(22,[0,1,2,3,4,5,...| 200000.0|  329904.763228999|\n",
            "|(22,[0,1,2,3,4,5,...| 800000.0| 715896.9535295414|\n",
            "|(22,[0,1,2,3,4,5,...| 599000.0| 454599.0364353041|\n",
            "|(22,[0,1,2,3,4,5,...| 449000.0| 689902.9773604852|\n",
            "|(22,[0,1,2,3,4,5,...|1320000.0|1743656.1260949187|\n",
            "|(22,[0,1,2,3,4,5,...| 960000.0| 1428279.098958625|\n",
            "|(22,[0,1,2,3,4,5,...|3200000.0| 2976922.977514469|\n",
            "|(22,[0,1,2,3,4,5,...|1900000.0|1783398.8234580532|\n",
            "|(22,[0,1,2,3,4,5,...|5784000.0|2916440.6989550395|\n",
            "|(22,[0,1,2,3,4,5,...| 659000.0| 768028.5241124643|\n",
            "|(22,[0,1,2,3,4,5,...| 600000.0| 851353.3632138263|\n",
            "|(22,[0,1,2,3,4,5,...|2100000.0|1310933.9628981464|\n",
            "|(22,[0,1,2,3,4,5,...|4500000.0|2056248.4056442669|\n",
            "|(22,[0,1,2,3,4,5,...|6900000.0|3499006.0182349784|\n",
            "|(22,[0,1,2,3,4,5,...|2900000.0|2176968.1130842986|\n",
            "|(22,[0,1,2,3,4,5,...| 160000.0|31582.075444359798|\n",
            "|(22,[0,1,2,3,4,5,...| 220000.0|107107.77067083854|\n",
            "|(22,[0,1,2,3,4,5,...| 250000.0| 222249.0877066783|\n",
            "|(22,[0,1,2,3,4,5,...|2689300.0|3353926.8479515836|\n",
            "+--------------------+---------+------------------+\n",
            "only showing top 20 rows\n",
            "\n"
          ]
        }
      ]
    },
    {
      "cell_type": "code",
      "source": [
        "resumo_treino = modelo_lr.summary"
      ],
      "metadata": {
        "id": "TgK9Yb2tfDaj"
      },
      "execution_count": null,
      "outputs": []
    },
    {
      "cell_type": "code",
      "source": [
        "resumo_treino.rootMeanSquaredError"
      ],
      "metadata": {
        "id": "SkIhJDxUfLXd",
        "colab": {
          "base_uri": "https://localhost:8080/"
        },
        "outputId": "b7a5d284-313b-4113-9f0f-04685a7dc05a"
      },
      "execution_count": null,
      "outputs": [
        {
          "output_type": "execute_result",
          "data": {
            "text/plain": [
              "840845.832904251"
            ]
          },
          "metadata": {},
          "execution_count": 88
        }
      ]
    },
    {
      "cell_type": "code",
      "source": [
        "resumo_teste = modelo_lr.evaluate(teste)"
      ],
      "metadata": {
        "id": "vJ_5fydXnMum"
      },
      "execution_count": null,
      "outputs": []
    },
    {
      "cell_type": "code",
      "source": [
        "print('Linear Regression')\n",
        "print(\"=\"*30)\n",
        "print(\"Dados de Treino\")\n",
        "print(\"=\"*30)\n",
        "print(\"R²: %f\" % resumo_treino.r2)\n",
        "print(\"RMSE: %f\" % resumo_treino.rootMeanSquaredError)\n",
        "print(\"\")\n",
        "print(\"=\"*30)\n",
        "print(\"Dados de Teste\")\n",
        "print(\"=\"*30)\n",
        "print(\"R²: %f\" % resumo_teste.r2)\n",
        "print(\"RMSE: %f\" % resumo_teste.rootMeanSquaredError)\n"
      ],
      "metadata": {
        "colab": {
          "base_uri": "https://localhost:8080/"
        },
        "id": "dSh3nPesnOkm",
        "outputId": "a0e3357c-b7ce-4934-98ba-e9e8d2a84455"
      },
      "execution_count": null,
      "outputs": [
        {
          "output_type": "stream",
          "name": "stdout",
          "text": [
            "Linear Regression\n",
            "==============================\n",
            "Dados de Treino\n",
            "==============================\n",
            "R²: 0.670510\n",
            "RMSE: 840845.832904\n",
            "\n",
            "==============================\n",
            "Dados de Teste\n",
            "==============================\n",
            "R²: 0.646615\n",
            "RMSE: 880670.282050\n"
          ]
        }
      ]
    },
    {
      "cell_type": "code",
      "source": [],
      "metadata": {
        "id": "Bd_fVYfpnTSX"
      },
      "execution_count": null,
      "outputs": []
    }
  ],
  "metadata": {
    "colab": {
      "collapsed_sections": [
        "CtCo7ywiXjMm",
        "iTfJSqFTXb5D",
        "ENON8Dn5e7P6",
        "I8Pw578kveb9"
      ],
      "provenance": [],
      "authorship_tag": "ABX9TyM1PjzoSWfIh60/Vmcnt/HN",
      "include_colab_link": true
    },
    "kernelspec": {
      "display_name": "Python 3",
      "name": "python3"
    },
    "language_info": {
      "name": "python"
    }
  },
  "nbformat": 4,
  "nbformat_minor": 0
}