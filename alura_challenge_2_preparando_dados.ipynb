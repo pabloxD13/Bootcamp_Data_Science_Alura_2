{
  "cells": [
    {
      "cell_type": "markdown",
      "metadata": {
        "id": "view-in-github",
        "colab_type": "text"
      },
      "source": [
        "<a href=\"https://colab.research.google.com/github/pabloxD13/Bootcamp_Data_Science_Alura_2/blob/main/alura_challenge_2_preparando_dados.ipynb\" target=\"_parent\"><img src=\"https://colab.research.google.com/assets/colab-badge.svg\" alt=\"Open In Colab\"/></a>"
      ]
    },
    {
      "cell_type": "markdown",
      "metadata": {
        "id": "t3hsm_eopguE"
      },
      "source": [
        "#Realizando instalação do spark e suas dependências"
      ]
    },
    {
      "cell_type": "code",
      "execution_count": null,
      "metadata": {
        "id": "_JO7so_daM7L",
        "colab": {
          "base_uri": "https://localhost:8080/"
        },
        "outputId": "ee86ffec-f801-4e5e-848d-e12cc3afbf68"
      },
      "outputs": [
        {
          "output_type": "stream",
          "name": "stdout",
          "text": [
            "Looking in indexes: https://pypi.org/simple, https://us-python.pkg.dev/colab-wheels/public/simple/\n",
            "Requirement already satisfied: pyspark==3.3.1 in /usr/local/lib/python3.8/dist-packages (3.3.1)\n",
            "Requirement already satisfied: py4j==0.10.9.5 in /usr/local/lib/python3.8/dist-packages (from pyspark==3.3.1) (0.10.9.5)\n"
          ]
        }
      ],
      "source": [
        "!pip install pyspark==3.3.1"
      ]
    },
    {
      "cell_type": "code",
      "execution_count": null,
      "metadata": {
        "id": "iV99RavfaY5E"
      },
      "outputs": [],
      "source": [
        "#Spark Session\n",
        "from pyspark.sql import SparkSession\n",
        "\n",
        "spark = SparkSession.builder \\\n",
        "    .master('local[*]') \\\n",
        "    .appName(\"Projeto Insight Places\") \\\n",
        "    .getOrCreate()"
      ]
    },
    {
      "cell_type": "markdown",
      "metadata": {
        "id": "PJnhCIYSpYG0"
      },
      "source": [
        "#Montando Drive e carregando os dados"
      ]
    },
    {
      "cell_type": "code",
      "execution_count": null,
      "metadata": {
        "colab": {
          "base_uri": "https://localhost:8080/"
        },
        "id": "s34CnC7Lac58",
        "outputId": "315ee0ff-092d-4894-fcf1-6d5d7ae142ad"
      },
      "outputs": [
        {
          "output_type": "stream",
          "name": "stdout",
          "text": [
            "Drive already mounted at /content/drive; to attempt to forcibly remount, call drive.mount(\"/content/drive\", force_remount=True).\n"
          ]
        }
      ],
      "source": [
        "from google.colab import drive\n",
        "drive.mount('/content/drive')"
      ]
    },
    {
      "cell_type": "code",
      "execution_count": null,
      "metadata": {
        "id": "QK6UMit-bA_b"
      },
      "outputs": [],
      "source": [
        "path = '/content/drive/MyDrive/Alura/Challenge_2'"
      ]
    },
    {
      "cell_type": "code",
      "execution_count": null,
      "metadata": {
        "colab": {
          "base_uri": "https://localhost:8080/"
        },
        "id": "SPxH48XUbFxj",
        "outputId": "9f8741be-5cfb-4aca-bd6c-318730571f21"
      },
      "outputs": [
        {
          "output_type": "stream",
          "name": "stdout",
          "text": [
            "root\n",
            " |-- anuncio: struct (nullable = true)\n",
            " |    |-- andar: long (nullable = true)\n",
            " |    |-- area_total: array (nullable = true)\n",
            " |    |    |-- element: string (containsNull = true)\n",
            " |    |-- area_util: array (nullable = true)\n",
            " |    |    |-- element: string (containsNull = true)\n",
            " |    |-- banheiros: array (nullable = true)\n",
            " |    |    |-- element: long (containsNull = true)\n",
            " |    |-- caracteristicas: array (nullable = true)\n",
            " |    |    |-- element: string (containsNull = true)\n",
            " |    |-- endereco: struct (nullable = true)\n",
            " |    |    |-- bairro: string (nullable = true)\n",
            " |    |    |-- cep: string (nullable = true)\n",
            " |    |    |-- cidade: string (nullable = true)\n",
            " |    |    |-- estado: string (nullable = true)\n",
            " |    |    |-- latitude: double (nullable = true)\n",
            " |    |    |-- longitude: double (nullable = true)\n",
            " |    |    |-- pais: string (nullable = true)\n",
            " |    |    |-- rua: string (nullable = true)\n",
            " |    |    |-- zona: string (nullable = true)\n",
            " |    |-- id: string (nullable = true)\n",
            " |    |-- quartos: array (nullable = true)\n",
            " |    |    |-- element: long (containsNull = true)\n",
            " |    |-- suites: array (nullable = true)\n",
            " |    |    |-- element: long (containsNull = true)\n",
            " |    |-- tipo_anuncio: string (nullable = true)\n",
            " |    |-- tipo_unidade: string (nullable = true)\n",
            " |    |-- tipo_uso: string (nullable = true)\n",
            " |    |-- vaga: array (nullable = true)\n",
            " |    |    |-- element: long (containsNull = true)\n",
            " |    |-- valores: array (nullable = true)\n",
            " |    |    |-- element: struct (containsNull = true)\n",
            " |    |    |    |-- condominio: string (nullable = true)\n",
            " |    |    |    |-- iptu: string (nullable = true)\n",
            " |    |    |    |-- tipo: string (nullable = true)\n",
            " |    |    |    |-- valor: string (nullable = true)\n",
            " |-- imagens: array (nullable = true)\n",
            " |    |-- element: struct (containsNull = true)\n",
            " |    |    |-- id: string (nullable = true)\n",
            " |    |    |-- url: string (nullable = true)\n",
            " |-- usuario: struct (nullable = true)\n",
            " |    |-- id: string (nullable = true)\n",
            " |    |-- nome: string (nullable = true)\n",
            "\n"
          ]
        }
      ],
      "source": [
        "# Carregando os dados e avaliando seus tipos\n",
        "dados = spark.read.json('/content/drive/MyDrive/Alura/Challenge_2/dataset_bruto.json')\n",
        "dados.printSchema()"
      ]
    },
    {
      "cell_type": "markdown",
      "metadata": {
        "id": "PH3KNL7Jev2v"
      },
      "source": [
        "#Seleção da coluna de anúncios e filtrando para os dados que serão úteis para nossa análise."
      ]
    },
    {
      "cell_type": "code",
      "execution_count": null,
      "metadata": {
        "id": "jRTW3Y4ZC7BK"
      },
      "outputs": [],
      "source": [
        "#Selecionando as colunas de anuncio pois são as mais relevantes para as análises\n",
        "anuncio = dados\\\n",
        "    .select(\n",
        "        'anuncio.*'\n",
        "    )"
      ]
    },
    {
      "cell_type": "code",
      "execution_count": null,
      "metadata": {
        "colab": {
          "base_uri": "https://localhost:8080/"
        },
        "id": "vfr0TdrfAx5X",
        "outputId": "c68f6ae8-a821-4cfc-bd78-8b74d20cb41c"
      },
      "outputs": [
        {
          "output_type": "stream",
          "name": "stdout",
          "text": [
            "+-----+----------+---------+---------+---------------+-------------------------------------------------------------------------------------------------------------+------------------------------------+-------+------+------------+------------+---------+----+--------------------------+\n",
            "|andar|area_total|area_util|banheiros|caracteristicas|endereco                                                                                                     |id                                  |quartos|suites|tipo_anuncio|tipo_unidade|tipo_uso |vaga|valores                   |\n",
            "+-----+----------+---------+---------+---------------+-------------------------------------------------------------------------------------------------------------+------------------------------------+-------+------+------------+------------+---------+----+--------------------------+\n",
            "|0    |[]        |[16]     |[0]      |[]             |{Centro, 20061003, Rio de Janeiro, Rio de Janeiro, -22.906082, -43.18671, BR, Rua Buenos Aires, Zona Central}|47d553e0-79f2-4a46-9390-5a3c962740c2|[0]    |[0]   |Usado       |Outros      |Comercial|[1] |[{260, 107, Venda, 10000}]|\n",
            "|0    |[]        |[14]     |[0]      |[]             |{Centro, 20051040, Rio de Janeiro, Rio de Janeiro, -22.902536, -43.18434, BR, Avenida Passos, Zona Central}  |b6ffbae1-17f6-4870-9950-e998ac1c8d6a|[0]    |[]    |Usado       |Outros      |Comercial|[0] |[{260, 107, Venda, 10000}]|\n",
            "+-----+----------+---------+---------+---------------+-------------------------------------------------------------------------------------------------------------+------------------------------------+-------+------+------------+------------+---------+----+--------------------------+\n",
            "only showing top 2 rows\n",
            "\n"
          ]
        }
      ],
      "source": [
        "anuncio.show(2, truncate = False)"
      ]
    },
    {
      "cell_type": "code",
      "execution_count": null,
      "metadata": {
        "colab": {
          "base_uri": "https://localhost:8080/"
        },
        "id": "xchvcqg9huex",
        "outputId": "76049298-6c92-4199-932b-cd806e7d40b1"
      },
      "outputs": [
        {
          "output_type": "stream",
          "name": "stdout",
          "text": [
            "+-----------+-----+\n",
            "|   tipo_uso|count|\n",
            "+-----------+-----+\n",
            "|  Comercial| 4542|\n",
            "|Residencial|84541|\n",
            "+-----------+-----+\n",
            "\n"
          ]
        }
      ],
      "source": [
        "anuncio\\\n",
        "    .select('tipo_uso')\\\n",
        "    .groupBy('tipo_uso')\\\n",
        "    .count()\\\n",
        "    .show()"
      ]
    },
    {
      "cell_type": "code",
      "execution_count": null,
      "metadata": {
        "id": "bIp1cu3qh4BY"
      },
      "outputs": [],
      "source": [
        "anuncio = anuncio.filter(\"tipo_uso == 'Residencial'\")"
      ]
    },
    {
      "cell_type": "code",
      "execution_count": null,
      "metadata": {
        "id": "PE0K0nD7iQki",
        "colab": {
          "base_uri": "https://localhost:8080/"
        },
        "outputId": "9019ec5f-4a42-4978-ce3b-bd6c6c7b53ba"
      },
      "outputs": [
        {
          "output_type": "stream",
          "name": "stdout",
          "text": [
            "+------------+-----+\n",
            "|tipo_unidade|count|\n",
            "+------------+-----+\n",
            "|      Outros| 7517|\n",
            "| Apartamento|66797|\n",
            "|        Casa|10227|\n",
            "+------------+-----+\n",
            "\n"
          ]
        }
      ],
      "source": [
        "anuncio\\\n",
        "    .groupBy('tipo_unidade')\\\n",
        "    .count()\\\n",
        "    .show()"
      ]
    },
    {
      "cell_type": "code",
      "execution_count": null,
      "metadata": {
        "id": "pgx_yysyiqm_"
      },
      "outputs": [],
      "source": [
        "anuncio = anuncio.filter(\"tipo_unidade == 'Apartamento'\")"
      ]
    },
    {
      "cell_type": "code",
      "execution_count": null,
      "metadata": {
        "id": "cdw75K_cjAzW"
      },
      "outputs": [],
      "source": [
        "anuncio = anuncio.filter(\"tipo_anuncio == 'Usado'\")"
      ]
    },
    {
      "cell_type": "code",
      "execution_count": null,
      "metadata": {
        "colab": {
          "base_uri": "https://localhost:8080/"
        },
        "id": "o5BBAa-dk84-",
        "outputId": "0ff15f91-5439-4ba2-f89e-03d3c9227a68"
      },
      "outputs": [
        {
          "output_type": "stream",
          "name": "stdout",
          "text": [
            "+-----+----------+---------+---------+--------------------+--------------------+--------------------+-------+------+------------+------------+-----------+----+--------------------+\n",
            "|andar|area_total|area_util|banheiros|     caracteristicas|            endereco|                  id|quartos|suites|tipo_anuncio|tipo_unidade|   tipo_uso|vaga|             valores|\n",
            "+-----+----------+---------+---------+--------------------+--------------------+--------------------+-------+------+------------+------------+-----------+----+--------------------+\n",
            "|    3|      [43]|     [43]|      [1]|[Academia, Churra...|{Paciência, 23585...|d2e3a3aa-09b5-45a...|    [2]|    []|       Usado| Apartamento|Residencial| [1]|[{245, null, Vend...|\n",
            "|    2|      [42]|     [42]|      [1]|[Churrasqueira, P...|{Paciência, 23585...|085bab2c-87ad-452...|    [2]|    []|       Usado| Apartamento|Residencial| [1]|[{0, 0, Venda, 15...|\n",
            "|    1|      [41]|     [41]|      [1]|[Portaria 24h, Co...|{Guaratiba, 23036...|18d22cbe-1b86-476...|    [2]|    []|       Usado| Apartamento|Residencial| [1]|[{0, 0, Venda, 20...|\n",
            "|    3|      [43]|     [43]|      [1]|[Churrasqueira, P...|{Cosmos, 23066271...|bed8a354-9317-442...|    [2]|    []|       Usado| Apartamento|Residencial| [0]|[{285, null, Vend...|\n",
            "|    2|      [43]|     [43]|      [1]|[Academia, Churra...|{Guaratiba, 23036...|12a13315-d67f-48f...|    [2]|    []|       Usado| Apartamento|Residencial| [1]|[{245, null, Vend...|\n",
            "+-----+----------+---------+---------+--------------------+--------------------+--------------------+-------+------+------------+------------+-----------+----+--------------------+\n",
            "only showing top 5 rows\n",
            "\n"
          ]
        }
      ],
      "source": [
        "anuncio.show(5)"
      ]
    },
    {
      "cell_type": "code",
      "execution_count": null,
      "metadata": {
        "id": "-MclXXMTlme3"
      },
      "outputs": [],
      "source": [
        "from pyspark.sql.types import DoubleType, StringType, IntegerType\n",
        "from pyspark.sql import functions as f"
      ]
    },
    {
      "cell_type": "code",
      "execution_count": null,
      "metadata": {
        "colab": {
          "base_uri": "https://localhost:8080/"
        },
        "id": "EzHosSfmk-1t",
        "outputId": "cd1fa916-fb4d-4cdd-97e9-50d994613468"
      },
      "outputs": [
        {
          "output_type": "stream",
          "name": "stdout",
          "text": [
            "+-------+-----+\n",
            "|quartos|count|\n",
            "+-------+-----+\n",
            "|      1|66562|\n",
            "+-------+-----+\n",
            "\n"
          ]
        }
      ],
      "source": [
        "anuncio\\\n",
        "    .select(f.size(f.col('quartos')).alias('quartos'))\\\n",
        "    .groupBy('quartos')\\\n",
        "    .count()\\\n",
        "    .show()"
      ]
    },
    {
      "cell_type": "code",
      "execution_count": null,
      "metadata": {
        "id": "I6Lb1dV-l4Y2"
      },
      "outputs": [],
      "source": [
        "caracteristicas = ['quartos', 'suites', 'banheiros', 'vaga', 'area_total', 'area_util']"
      ]
    },
    {
      "cell_type": "code",
      "execution_count": null,
      "metadata": {
        "colab": {
          "base_uri": "https://localhost:8080/"
        },
        "id": "OH1QOrsKmM4V",
        "outputId": "8853d3bb-8007-451f-987f-13755b208b87"
      },
      "outputs": [
        {
          "output_type": "stream",
          "name": "stdout",
          "text": [
            "+-------+-----+\n",
            "|quartos|count|\n",
            "+-------+-----+\n",
            "|      1|66562|\n",
            "+-------+-----+\n",
            "\n",
            "+------+-----+\n",
            "|suites|count|\n",
            "+------+-----+\n",
            "|     1|61008|\n",
            "|     0| 5554|\n",
            "+------+-----+\n",
            "\n",
            "+---------+-----+\n",
            "|banheiros|count|\n",
            "+---------+-----+\n",
            "|        1|66562|\n",
            "+---------+-----+\n",
            "\n",
            "+----+-----+\n",
            "|vaga|count|\n",
            "+----+-----+\n",
            "|   1|63545|\n",
            "|   0| 3017|\n",
            "+----+-----+\n",
            "\n",
            "+----------+-----+\n",
            "|area_total|count|\n",
            "+----------+-----+\n",
            "|         1|57368|\n",
            "|         0| 9194|\n",
            "+----------+-----+\n",
            "\n",
            "+---------+-----+\n",
            "|area_util|count|\n",
            "+---------+-----+\n",
            "|        1|66562|\n",
            "+---------+-----+\n",
            "\n"
          ]
        }
      ],
      "source": [
        "for col in caracteristicas:\n",
        "    anuncio\\\n",
        "        .select(f.size(f.col(col)).alias(col))\\\n",
        "        .groupBy(col)\\\n",
        "        .count()\\\n",
        "        .show()"
      ]
    },
    {
      "cell_type": "code",
      "execution_count": null,
      "metadata": {
        "id": "iaEoc4sLmXOO"
      },
      "outputs": [],
      "source": [
        "anuncio = anuncio\\\n",
        "    .select([f.col(c)[0].alias(c) if c in caracteristicas else c for c in anuncio.columns])"
      ]
    },
    {
      "cell_type": "code",
      "execution_count": null,
      "metadata": {
        "id": "K0HNM_AgJoE6"
      },
      "outputs": [],
      "source": [
        "#Tranformando as variáveis de StringType para IntegerType\n",
        "anuncio = anuncio.withColumn('area_total', anuncio['area_total'].cast(DoubleType()))\n",
        "anuncio = anuncio.withColumn('area_util', anuncio['area_util'].cast(DoubleType()))\n",
        "anuncio = anuncio.withColumn('banheiros', anuncio['banheiros'].cast(IntegerType()))\n",
        "anuncio = anuncio.withColumn('quartos', anuncio['quartos'].cast(IntegerType()))\n",
        "anuncio = anuncio.withColumn('vaga', anuncio['vaga'].cast(IntegerType()))\n",
        "anuncio = anuncio.withColumn('suites', anuncio['suites'].cast(IntegerType()))\n",
        "anuncio = anuncio.withColumn('andar', anuncio['andar'].cast(IntegerType()))"
      ]
    },
    {
      "cell_type": "code",
      "execution_count": null,
      "metadata": {
        "colab": {
          "base_uri": "https://localhost:8080/"
        },
        "id": "MUYTR8sPE46K",
        "outputId": "5ddb465b-5f24-4345-f19e-0c736834bcf1"
      },
      "outputs": [
        {
          "output_type": "stream",
          "name": "stdout",
          "text": [
            "root\n",
            " |-- andar: integer (nullable = true)\n",
            " |-- area_total: double (nullable = true)\n",
            " |-- area_util: double (nullable = true)\n",
            " |-- banheiros: integer (nullable = true)\n",
            " |-- caracteristicas: array (nullable = true)\n",
            " |    |-- element: string (containsNull = true)\n",
            " |-- endereco: struct (nullable = true)\n",
            " |    |-- bairro: string (nullable = true)\n",
            " |    |-- cep: string (nullable = true)\n",
            " |    |-- cidade: string (nullable = true)\n",
            " |    |-- estado: string (nullable = true)\n",
            " |    |-- latitude: double (nullable = true)\n",
            " |    |-- longitude: double (nullable = true)\n",
            " |    |-- pais: string (nullable = true)\n",
            " |    |-- rua: string (nullable = true)\n",
            " |    |-- zona: string (nullable = true)\n",
            " |-- id: string (nullable = true)\n",
            " |-- quartos: integer (nullable = true)\n",
            " |-- suites: integer (nullable = true)\n",
            " |-- tipo_anuncio: string (nullable = true)\n",
            " |-- tipo_unidade: string (nullable = true)\n",
            " |-- tipo_uso: string (nullable = true)\n",
            " |-- vaga: integer (nullable = true)\n",
            " |-- valores: array (nullable = true)\n",
            " |    |-- element: struct (containsNull = true)\n",
            " |    |    |-- condominio: string (nullable = true)\n",
            " |    |    |-- iptu: string (nullable = true)\n",
            " |    |    |-- tipo: string (nullable = true)\n",
            " |    |    |-- valor: string (nullable = true)\n",
            "\n"
          ]
        }
      ],
      "source": [
        "anuncio.printSchema()"
      ]
    },
    {
      "cell_type": "markdown",
      "metadata": {
        "id": "CtCo7ywiXjMm"
      },
      "source": [
        "#Seleção dos campos de endereço"
      ]
    },
    {
      "cell_type": "code",
      "execution_count": null,
      "metadata": {
        "id": "NsyHs5xAnOTd"
      },
      "outputs": [],
      "source": [
        "#Selecionando as colunas Bairro e Zona da coluna endereço.\n",
        "anuncio_end = anuncio\\\n",
        "    .select(['id','endereco.bairro','endereco.zona'])"
      ]
    },
    {
      "cell_type": "code",
      "execution_count": null,
      "metadata": {
        "colab": {
          "base_uri": "https://localhost:8080/"
        },
        "id": "L7VbqOoDEd3c",
        "outputId": "b2f118d8-0d2d-4b52-dc54-a523ca7e075f"
      },
      "outputs": [
        {
          "output_type": "stream",
          "name": "stdout",
          "text": [
            "+------------------------------------+---------+----------+\n",
            "|id_endereco                         |bairro   |zona      |\n",
            "+------------------------------------+---------+----------+\n",
            "|d2e3a3aa-09b5-45a0-9dcd-918847cd3ca3|Paciência|Zona Oeste|\n",
            "|085bab2c-87ad-452a-bd0f-8b1451509f84|Paciência|Zona Oeste|\n",
            "+------------------------------------+---------+----------+\n",
            "only showing top 2 rows\n",
            "\n"
          ]
        }
      ],
      "source": [
        "anuncio_end = anuncio_end.withColumnRenamed(\"id\",\"id_endereco\")\n",
        "anuncio_end.show(2, truncate = False)"
      ]
    },
    {
      "cell_type": "code",
      "execution_count": null,
      "metadata": {
        "id": "LTqiyc-NEg52"
      },
      "outputs": [],
      "source": [
        "anuncio = anuncio.join(anuncio_end, anuncio_end.id_endereco == anuncio.id, 'inner')"
      ]
    },
    {
      "cell_type": "code",
      "execution_count": null,
      "metadata": {
        "id": "WK-CutqViFZw"
      },
      "outputs": [],
      "source": [
        "#Retirando as colunas de id e de endereço\n",
        "anuncio = anuncio.drop('id_endereco')\n",
        "anuncio = anuncio.drop('endereco')"
      ]
    },
    {
      "cell_type": "code",
      "execution_count": null,
      "metadata": {
        "colab": {
          "base_uri": "https://localhost:8080/"
        },
        "id": "-hkYR_5vLdOZ",
        "outputId": "0a071495-64ff-42f7-f259-4bd6fbcc6881"
      },
      "outputs": [
        {
          "output_type": "stream",
          "name": "stdout",
          "text": [
            "+-----+----------+---------+---------+-------------------------------------------------------------------------------------------------------------------------------+------------------------------------+-------+------+------------+------------+-----------+----+---------------------------+--------+----------+\n",
            "|andar|area_total|area_util|banheiros|caracteristicas                                                                                                                |id                                  |quartos|suites|tipo_anuncio|tipo_unidade|tipo_uso   |vaga|valores                    |bairro  |zona      |\n",
            "+-----+----------+---------+---------+-------------------------------------------------------------------------------------------------------------------------------+------------------------------------+-------+------+------------+------------+-----------+----+---------------------------+--------+----------+\n",
            "|0    |43.0      |43.0     |1        |[Churrasqueira, Academia, Playground, Salão de festas, Condomínio fechado, Portão eletrônico, Portaria 24h, Animais permitidos]|03a386b6-7ab8-4eff-891d-f8a16efc1989|2      |null  |Usado       |Apartamento |Residencial|1   |[{285, null, Venda, 22999}]|Realengo|Zona Oeste|\n",
            "|0    |44.0      |44.0     |1        |[]                                                                                                                             |1fe78d41-b8e0-4d21-a1a8-72cb7863f441|2      |0     |Usado       |Apartamento |Residencial|0   |[{170, 0, Venda, 110000}]  |Irajá   |Zona Norte|\n",
            "+-----+----------+---------+---------+-------------------------------------------------------------------------------------------------------------------------------+------------------------------------+-------+------+------------+------------+-----------+----+---------------------------+--------+----------+\n",
            "only showing top 2 rows\n",
            "\n"
          ]
        }
      ],
      "source": [
        "anuncio.show(2, truncate=False)"
      ]
    },
    {
      "cell_type": "markdown",
      "metadata": {
        "id": "AI4q_dsuXVtY"
      },
      "source": []
    },
    {
      "cell_type": "markdown",
      "metadata": {
        "id": "iTfJSqFTXb5D"
      },
      "source": [
        "#Transformação dos campos de valores"
      ]
    },
    {
      "cell_type": "code",
      "execution_count": null,
      "metadata": {
        "id": "MOWXraUWL-lx"
      },
      "outputs": [],
      "source": [
        "#Transformando cada campo da coluna \"valores\" em uma coluna separada\n",
        "anuncio_select = anuncio.select(['id','valores.condominio','valores.iptu','valores.tipo','valores.valor'])"
      ]
    },
    {
      "cell_type": "code",
      "execution_count": null,
      "metadata": {
        "id": "w3Nj_LvwS-LH"
      },
      "outputs": [],
      "source": [
        "anuncio_valores = anuncio_select.withColumnRenamed(\"id\",\"id_valores\")"
      ]
    },
    {
      "cell_type": "code",
      "execution_count": null,
      "metadata": {
        "id": "uM8_buajWkaf"
      },
      "outputs": [],
      "source": [
        "# Tranformando as variáveis de array para seu determinado tipo\n",
        "colunas_corrigir_valores = ['condominio', 'iptu', 'tipo', 'valor']\n",
        "anuncio_valores = anuncio_valores.select([f.col(c)[0].alias(c) if c in colunas_corrigir_valores else c for c in anuncio_valores.columns])"
      ]
    },
    {
      "cell_type": "code",
      "execution_count": null,
      "metadata": {
        "id": "YmBSnElYTy6H"
      },
      "outputs": [],
      "source": [
        "anuncio_valores = anuncio_valores.withColumn('condominio', anuncio_valores['condominio'].cast(DoubleType()))\n",
        "anuncio_valores = anuncio_valores.withColumn('iptu', anuncio_valores['iptu'].cast(DoubleType()))\n",
        "anuncio_valores = anuncio_valores.withColumn('valor', anuncio_valores['valor'].cast(DoubleType()))"
      ]
    },
    {
      "cell_type": "code",
      "execution_count": null,
      "metadata": {
        "id": "7S4oPS-PUGg2"
      },
      "outputs": [],
      "source": [
        "anuncio = anuncio.join(anuncio_valores, anuncio_valores['id_valores'] == anuncio.id, 'inner')"
      ]
    },
    {
      "cell_type": "code",
      "execution_count": null,
      "metadata": {
        "id": "O70J462nYoYw"
      },
      "outputs": [],
      "source": [
        "anuncio = anuncio.drop('id_valores')"
      ]
    },
    {
      "cell_type": "code",
      "execution_count": null,
      "metadata": {
        "id": "pV_X5zL9bJFU"
      },
      "outputs": [],
      "source": [
        "anuncio = anuncio.drop('valores')"
      ]
    },
    {
      "cell_type": "code",
      "execution_count": null,
      "metadata": {
        "id": "R1AMtFdEXMHe",
        "colab": {
          "base_uri": "https://localhost:8080/"
        },
        "outputId": "53095521-e4e2-4912-8676-e11218375bea"
      },
      "outputs": [
        {
          "output_type": "stream",
          "name": "stdout",
          "text": [
            "+-----+----------+---------+---------+-------------------------------------------------------------------------------------------------------------------------------+------------------------------------+-------+------+------------+------------+-----------+----+------------+------------+----------+------+-----+--------+\n",
            "|andar|area_total|area_util|banheiros|caracteristicas                                                                                                                |id                                  |quartos|suites|tipo_anuncio|tipo_unidade|tipo_uso   |vaga|bairro      |zona        |condominio|iptu  |tipo |valor   |\n",
            "+-----+----------+---------+---------+-------------------------------------------------------------------------------------------------------------------------------+------------------------------------+-------+------+------------+------------+-----------+----+------------+------------+----------+------+-----+--------+\n",
            "|0    |43.0      |43.0     |1        |[Churrasqueira, Academia, Playground, Salão de festas, Condomínio fechado, Portão eletrônico, Portaria 24h, Animais permitidos]|03a386b6-7ab8-4eff-891d-f8a16efc1989|2      |null  |Usado       |Apartamento |Residencial|1   |Realengo    |Zona Oeste  |285.0     |null  |Venda|22999.0 |\n",
            "|0    |44.0      |44.0     |1        |[]                                                                                                                             |1fe78d41-b8e0-4d21-a1a8-72cb7863f441|2      |0     |Usado       |Apartamento |Residencial|0   |Irajá       |Zona Norte  |170.0     |0.0   |Venda|110000.0|\n",
            "|4    |null      |55.0     |1        |[]                                                                                                                             |1fa1c1e5-e98c-433f-9675-1b43d7d6da01|2      |0     |Usado       |Apartamento |Residencial|1   |Cosmos      |Zona Oeste  |null      |null  |Venda|115000.0|\n",
            "|2    |null      |55.0     |1        |[]                                                                                                                             |a6ab01ae-3d40-40e7-bb6a-f2334e0abbe0|2      |0     |Usado       |Apartamento |Residencial|0   |Tomás Coelho|Zona Norte  |null      |null  |Venda|115000.0|\n",
            "|0    |null      |50.0     |1        |[]                                                                                                                             |1d8ff7a2-16bd-4e3f-a92e-1b85f923ebb0|1      |null  |Usado       |Apartamento |Residencial|0   |Centro      |Zona Central|1300.0    |2679.0|Venda|125000.0|\n",
            "+-----+----------+---------+---------+-------------------------------------------------------------------------------------------------------------------------------+------------------------------------+-------+------+------------+------------+-----------+----+------------+------------+----------+------+-----+--------+\n",
            "only showing top 5 rows\n",
            "\n"
          ]
        }
      ],
      "source": [
        "anuncio.show(5, truncate = False)"
      ]
    },
    {
      "cell_type": "markdown",
      "metadata": {
        "id": "VekAlxStcBVI"
      },
      "source": [
        "#Filtrando os tipos de negociação"
      ]
    },
    {
      "cell_type": "code",
      "execution_count": null,
      "metadata": {
        "id": "jse7_HeubMxP",
        "colab": {
          "base_uri": "https://localhost:8080/"
        },
        "outputId": "89fbe6ed-6087-4b7e-b01b-2b68b487c940"
      },
      "outputs": [
        {
          "output_type": "stream",
          "name": "stdout",
          "text": [
            "+-------+-----+\n",
            "|   tipo|count|\n",
            "+-------+-----+\n",
            "|Aluguel|  214|\n",
            "|  Venda|66348|\n",
            "+-------+-----+\n",
            "\n"
          ]
        }
      ],
      "source": [
        "anuncio.groupBy('tipo')\\\n",
        "    .count()\\\n",
        "    .show()"
      ]
    },
    {
      "cell_type": "code",
      "execution_count": null,
      "metadata": {
        "id": "_YUk0Wp_ZSK9",
        "colab": {
          "base_uri": "https://localhost:8080/"
        },
        "outputId": "a4e54245-6784-4f04-af32-3e3408771988"
      },
      "outputs": [
        {
          "output_type": "stream",
          "name": "stdout",
          "text": [
            "+-----+----------+---------+---------+--------------------+--------------------+-------+------+------------+------------+-----------+----+--------------------+------------+----------+------+-----+--------+\n",
            "|andar|area_total|area_util|banheiros|     caracteristicas|                  id|quartos|suites|tipo_anuncio|tipo_unidade|   tipo_uso|vaga|              bairro|        zona|condominio|  iptu| tipo|   valor|\n",
            "+-----+----------+---------+---------+--------------------+--------------------+-------+------+------------+------------+-----------+----+--------------------+------------+----------+------+-----+--------+\n",
            "|    0|      43.0|     43.0|        1|[Churrasqueira, A...|03a386b6-7ab8-4ef...|      2|  null|       Usado| Apartamento|Residencial|   1|            Realengo|  Zona Oeste|     285.0|  null|Venda| 22999.0|\n",
            "|    0|      44.0|     44.0|        1|                  []|1fe78d41-b8e0-4d2...|      2|     0|       Usado| Apartamento|Residencial|   0|               Irajá|  Zona Norte|     170.0|   0.0|Venda|110000.0|\n",
            "|    4|      null|     55.0|        1|                  []|1fa1c1e5-e98c-433...|      2|     0|       Usado| Apartamento|Residencial|   1|              Cosmos|  Zona Oeste|      null|  null|Venda|115000.0|\n",
            "|    2|      null|     55.0|        1|                  []|a6ab01ae-3d40-40e...|      2|     0|       Usado| Apartamento|Residencial|   0|        Tomás Coelho|  Zona Norte|      null|  null|Venda|115000.0|\n",
            "|    0|      null|     50.0|        1|                  []|1d8ff7a2-16bd-4e3...|      1|  null|       Usado| Apartamento|Residencial|   0|              Centro|Zona Central|    1300.0|2679.0|Venda|125000.0|\n",
            "|    2|      47.0|     47.0|        1|[Condomínio fecha...|40a2cbde-946b-42d...|      2|     0|       Usado| Apartamento|Residencial|   1|        Campo Grande|  Zona Oeste|     380.0|  null|Venda|138000.0|\n",
            "|    0|   17089.0|     45.0|        1|[Churrasqueira, C...|be269ddf-a4a3-4a7...|      2|     0|       Usado| Apartamento|Residencial|   1|        Campo Grande|  Zona Oeste|     356.0|   0.0|Venda|140000.0|\n",
            "|    3|      48.0|     48.0|        1|[Churrasqueira, P...|4b7e3d59-34fd-4ba...|      2|  null|       Usado| Apartamento|Residencial|   1|        Campo Grande|  Zona Oeste|       0.0|   0.0|Venda|150000.0|\n",
            "|    9|      null|     55.0|        1|[Churrasqueira, E...|a1a0c2ac-4fa8-4b0...|      2|  null|       Usado| Apartamento|Residencial|   1|Freguesia (Jacare...|  Zona Oeste|     780.0| 660.0|Venda|160000.0|\n",
            "|    0|      70.0|     70.0|        2|   [Salão de festas]|390d2b88-e06d-47e...|      2|     0|       Usado| Apartamento|Residencial|   1|          Praça Seca|  Zona Oeste|  420000.0|  null|Venda|159000.0|\n",
            "|    2|      50.0|     48.0|        1|[Condomínio fecha...|07bb07c1-21cc-4da...|      1|     0|       Usado| Apartamento|Residencial|   0|             Piedade|  Zona Norte|      10.0|  10.0|Venda|170000.0|\n",
            "|    5|      40.0|     40.0|        1|[Playground, Chur...|7d3a1bae-988c-44b...|      2|     0|       Usado| Apartamento|Residencial|   1|        Braz de Pina|  Zona Norte|     150.0| 120.0|Venda|189000.0|\n",
            "|    0|      65.0|     65.0|        1|                  []|47af17f0-1c81-474...|      2|     0|       Usado| Apartamento|Residencial|   1|            Campinho|  Zona Oeste|     432.0|  null|Venda|185000.0|\n",
            "|    2|      50.0|     50.0|        1|[Condomínio fecha...|a9bd1575-e9f2-43d...|      1|     0|       Usado| Apartamento|Residencial|   1|           Madureira|  Zona Norte|     650.0|   1.0|Venda|185000.0|\n",
            "|    5|      45.0|     45.0|        1|[Academia, Churra...|cfca7253-3d02-4cd...|      2|     1|       Usado| Apartamento|Residencial|   0|             Taquara|  Zona Oeste|     150.0|  40.0|Venda|199000.0|\n",
            "|    0|      48.0|     48.0|        1|[Academia, Condom...|b571ae97-e3d8-4fb...|      2|  null|       Usado| Apartamento|Residencial|   0|          Bonsucesso|  Zona Norte|       0.0|   0.0|Venda|205933.0|\n",
            "|    0|      44.0|     44.0|        1|[Academia, Condom...|eb5fdc65-acae-45f...|      2|  null|       Usado| Apartamento|Residencial|   0|          Bonsucesso|  Zona Norte|       0.0|   0.0|Venda|206000.0|\n",
            "|    2|      64.0|     64.0|        1|                  []|77cd0388-e3ff-40c...|      2|     0|       Usado| Apartamento|Residencial|   0|      Jardim América|  Zona Norte|       0.0|   0.0|Venda|220000.0|\n",
            "|    0|      55.0|     55.0|        2|[Salão de festas,...|74a91f07-7387-4a8...|      1|     0|       Usado| Apartamento|Residencial|   1|        Engenho Novo|  Zona Norte|     600.0| 652.0|Venda|219130.0|\n",
            "|    3|      60.0|     60.0|        1|[Animais permitidos]|6aab1165-508d-455...|      3|     0|       Usado| Apartamento|Residencial|   1|           Cascadura|  Zona Norte|      98.0|   1.0|Venda|230000.0|\n",
            "+-----+----------+---------+---------+--------------------+--------------------+-------+------+------------+------------+-----------+----+--------------------+------------+----------+------+-----+--------+\n",
            "only showing top 20 rows\n",
            "\n"
          ]
        }
      ],
      "source": [
        "anuncio.filter(anuncio['tipo'] == 'Venda').show()"
      ]
    },
    {
      "cell_type": "code",
      "execution_count": null,
      "metadata": {
        "id": "C4us1GHGb-LU"
      },
      "outputs": [],
      "source": [
        "anuncio = anuncio.filter(anuncio['tipo'] == 'Venda')"
      ]
    },
    {
      "cell_type": "code",
      "execution_count": null,
      "metadata": {
        "id": "pEcZGxUFhoZQ",
        "colab": {
          "base_uri": "https://localhost:8080/"
        },
        "outputId": "3c6a9cd6-7c04-42f2-b21f-36140f62f2fc"
      },
      "outputs": [
        {
          "output_type": "stream",
          "name": "stdout",
          "text": [
            "root\n",
            " |-- andar: integer (nullable = true)\n",
            " |-- area_total: double (nullable = true)\n",
            " |-- area_util: double (nullable = true)\n",
            " |-- banheiros: integer (nullable = true)\n",
            " |-- caracteristicas: array (nullable = true)\n",
            " |    |-- element: string (containsNull = true)\n",
            " |-- id: string (nullable = true)\n",
            " |-- quartos: integer (nullable = true)\n",
            " |-- suites: integer (nullable = true)\n",
            " |-- tipo_anuncio: string (nullable = true)\n",
            " |-- tipo_unidade: string (nullable = true)\n",
            " |-- tipo_uso: string (nullable = true)\n",
            " |-- vaga: integer (nullable = true)\n",
            " |-- bairro: string (nullable = true)\n",
            " |-- zona: string (nullable = true)\n",
            " |-- condominio: double (nullable = true)\n",
            " |-- iptu: double (nullable = true)\n",
            " |-- tipo: string (nullable = true)\n",
            " |-- valor: double (nullable = true)\n",
            "\n"
          ]
        }
      ],
      "source": [
        "anuncio.printSchema()"
      ]
    },
    {
      "cell_type": "markdown",
      "metadata": {
        "id": "ENON8Dn5e7P6"
      },
      "source": [
        "#Salvando os arquivos em parquet e csv e comparando o desempenho dos dois"
      ]
    },
    {
      "cell_type": "code",
      "execution_count": null,
      "metadata": {
        "id": "RFRLQkD8cG8k"
      },
      "outputs": [],
      "source": [
        "#Salvando o arquivo em formato parquet\n",
        "anuncio.write.parquet(\n",
        "    path='/content/drive/MyDrive/Alura/Challenge_2/anuncio/parquet', \n",
        "    mode='overwrite')"
      ]
    },
    {
      "cell_type": "code",
      "execution_count": null,
      "metadata": {
        "id": "suNB3j31ntTC",
        "colab": {
          "base_uri": "https://localhost:8080/"
        },
        "outputId": "fd060768-85f2-442e-dc2b-c6dd29e2fd1b"
      },
      "outputs": [
        {
          "output_type": "stream",
          "name": "stdout",
          "text": [
            "+-----+----------+---------+---------+-------------------------------------------------------------------------------------------------------------------------------+------------------------------------+-------+------+------------+------------+-----------+----+--------+----------+----------+----+-----+--------+\n",
            "|andar|area_total|area_util|banheiros|caracteristicas                                                                                                                |id                                  |quartos|suites|tipo_anuncio|tipo_unidade|tipo_uso   |vaga|bairro  |zona      |condominio|iptu|tipo |valor   |\n",
            "+-----+----------+---------+---------+-------------------------------------------------------------------------------------------------------------------------------+------------------------------------+-------+------+------------+------------+-----------+----+--------+----------+----------+----+-----+--------+\n",
            "|0    |43.0      |43.0     |1        |[Churrasqueira, Academia, Playground, Salão de festas, Condomínio fechado, Portão eletrônico, Portaria 24h, Animais permitidos]|03a386b6-7ab8-4eff-891d-f8a16efc1989|2      |null  |Usado       |Apartamento |Residencial|1   |Realengo|Zona Oeste|285.0     |null|Venda|22999.0 |\n",
            "|0    |44.0      |44.0     |1        |[]                                                                                                                             |1fe78d41-b8e0-4d21-a1a8-72cb7863f441|2      |0     |Usado       |Apartamento |Residencial|0   |Irajá   |Zona Norte|170.0     |0.0 |Venda|110000.0|\n",
            "|4    |null      |55.0     |1        |[]                                                                                                                             |1fa1c1e5-e98c-433f-9675-1b43d7d6da01|2      |0     |Usado       |Apartamento |Residencial|1   |Cosmos  |Zona Oeste|null      |null|Venda|115000.0|\n",
            "+-----+----------+---------+---------+-------------------------------------------------------------------------------------------------------------------------------+------------------------------------+-------+------+------------+------------+-----------+----+--------+----------+----------+----+-----+--------+\n",
            "only showing top 3 rows\n",
            "\n"
          ]
        }
      ],
      "source": [
        "anuncio.show(3, truncate = False)"
      ]
    },
    {
      "cell_type": "code",
      "execution_count": null,
      "metadata": {
        "id": "Rq0ig0mBoCjH"
      },
      "outputs": [],
      "source": [
        "from pyspark.sql.functions import col, concat_ws"
      ]
    },
    {
      "cell_type": "code",
      "execution_count": null,
      "metadata": {
        "id": "_n3cAnhhhS5d"
      },
      "outputs": [],
      "source": [
        "#Transformando a coluna de características e salvando em csv\n",
        "# Transformando a coluna 'caracteristicas' de Array para String\n",
        "anuncio_csv = anuncio.withColumn('caracteristicas', concat_ws(\",\",col(\"caracteristicas\")))"
      ]
    },
    {
      "cell_type": "code",
      "execution_count": null,
      "metadata": {
        "id": "KnUSOtWEm9dA"
      },
      "outputs": [],
      "source": [
        "anuncio_csv.write.csv(\n",
        "    path='/content/drive/MyDrive/Alura/Challenge_2/anuncio/csv',\n",
        "    mode='overwrite',\n",
        "    sep=';',\n",
        "    header=True\n",
        ")"
      ]
    },
    {
      "cell_type": "markdown",
      "metadata": {
        "id": "I8Pw578kveb9"
      },
      "source": [
        "##Calculando tempo para leitura dos arquivos"
      ]
    },
    {
      "cell_type": "code",
      "execution_count": null,
      "metadata": {
        "id": "LbhvkMWUvSal",
        "colab": {
          "base_uri": "https://localhost:8080/"
        },
        "outputId": "f0b81ce0-a06a-45a8-c31e-3d3463842997"
      },
      "outputs": [
        {
          "output_type": "stream",
          "name": "stdout",
          "text": [
            "+-----+----------+---------+---------+--------------------+--------------------+-------+------+------------+------------+-----------+----+--------------------+------------+----------+------+-----+--------+\n",
            "|andar|area_total|area_util|banheiros|     caracteristicas|                  id|quartos|suites|tipo_anuncio|tipo_unidade|   tipo_uso|vaga|              bairro|        zona|condominio|  iptu| tipo|   valor|\n",
            "+-----+----------+---------+---------+--------------------+--------------------+-------+------+------------+------------+-----------+----+--------------------+------------+----------+------+-----+--------+\n",
            "|    0|      43.0|     43.0|        1|[Churrasqueira, A...|03a386b6-7ab8-4ef...|      2|  null|       Usado| Apartamento|Residencial|   1|            Realengo|  Zona Oeste|     285.0|  null|Venda| 22999.0|\n",
            "|    0|      44.0|     44.0|        1|                  []|1fe78d41-b8e0-4d2...|      2|     0|       Usado| Apartamento|Residencial|   0|               Irajá|  Zona Norte|     170.0|   0.0|Venda|110000.0|\n",
            "|    4|      null|     55.0|        1|                  []|1fa1c1e5-e98c-433...|      2|     0|       Usado| Apartamento|Residencial|   1|              Cosmos|  Zona Oeste|      null|  null|Venda|115000.0|\n",
            "|    2|      null|     55.0|        1|                  []|a6ab01ae-3d40-40e...|      2|     0|       Usado| Apartamento|Residencial|   0|        Tomás Coelho|  Zona Norte|      null|  null|Venda|115000.0|\n",
            "|    0|      null|     50.0|        1|                  []|1d8ff7a2-16bd-4e3...|      1|  null|       Usado| Apartamento|Residencial|   0|              Centro|Zona Central|    1300.0|2679.0|Venda|125000.0|\n",
            "|    2|      47.0|     47.0|        1|[Condomínio fecha...|40a2cbde-946b-42d...|      2|     0|       Usado| Apartamento|Residencial|   1|        Campo Grande|  Zona Oeste|     380.0|  null|Venda|138000.0|\n",
            "|    0|   17089.0|     45.0|        1|[Churrasqueira, C...|be269ddf-a4a3-4a7...|      2|     0|       Usado| Apartamento|Residencial|   1|        Campo Grande|  Zona Oeste|     356.0|   0.0|Venda|140000.0|\n",
            "|    3|      48.0|     48.0|        1|[Churrasqueira, P...|4b7e3d59-34fd-4ba...|      2|  null|       Usado| Apartamento|Residencial|   1|        Campo Grande|  Zona Oeste|       0.0|   0.0|Venda|150000.0|\n",
            "|    9|      null|     55.0|        1|[Churrasqueira, E...|a1a0c2ac-4fa8-4b0...|      2|  null|       Usado| Apartamento|Residencial|   1|Freguesia (Jacare...|  Zona Oeste|     780.0| 660.0|Venda|160000.0|\n",
            "|    0|      70.0|     70.0|        2|   [Salão de festas]|390d2b88-e06d-47e...|      2|     0|       Usado| Apartamento|Residencial|   1|          Praça Seca|  Zona Oeste|  420000.0|  null|Venda|159000.0|\n",
            "|    2|      50.0|     48.0|        1|[Condomínio fecha...|07bb07c1-21cc-4da...|      1|     0|       Usado| Apartamento|Residencial|   0|             Piedade|  Zona Norte|      10.0|  10.0|Venda|170000.0|\n",
            "|    5|      40.0|     40.0|        1|[Playground, Chur...|7d3a1bae-988c-44b...|      2|     0|       Usado| Apartamento|Residencial|   1|        Braz de Pina|  Zona Norte|     150.0| 120.0|Venda|189000.0|\n",
            "|    0|      65.0|     65.0|        1|                  []|47af17f0-1c81-474...|      2|     0|       Usado| Apartamento|Residencial|   1|            Campinho|  Zona Oeste|     432.0|  null|Venda|185000.0|\n",
            "|    2|      50.0|     50.0|        1|[Condomínio fecha...|a9bd1575-e9f2-43d...|      1|     0|       Usado| Apartamento|Residencial|   1|           Madureira|  Zona Norte|     650.0|   1.0|Venda|185000.0|\n",
            "|    5|      45.0|     45.0|        1|[Academia, Churra...|cfca7253-3d02-4cd...|      2|     1|       Usado| Apartamento|Residencial|   0|             Taquara|  Zona Oeste|     150.0|  40.0|Venda|199000.0|\n",
            "|    0|      48.0|     48.0|        1|[Academia, Condom...|b571ae97-e3d8-4fb...|      2|  null|       Usado| Apartamento|Residencial|   0|          Bonsucesso|  Zona Norte|       0.0|   0.0|Venda|205933.0|\n",
            "|    0|      44.0|     44.0|        1|[Academia, Condom...|eb5fdc65-acae-45f...|      2|  null|       Usado| Apartamento|Residencial|   0|          Bonsucesso|  Zona Norte|       0.0|   0.0|Venda|206000.0|\n",
            "|    2|      64.0|     64.0|        1|                  []|77cd0388-e3ff-40c...|      2|     0|       Usado| Apartamento|Residencial|   0|      Jardim América|  Zona Norte|       0.0|   0.0|Venda|220000.0|\n",
            "|    0|      55.0|     55.0|        2|[Salão de festas,...|74a91f07-7387-4a8...|      1|     0|       Usado| Apartamento|Residencial|   1|        Engenho Novo|  Zona Norte|     600.0| 652.0|Venda|219130.0|\n",
            "|    3|      60.0|     60.0|        1|[Animais permitidos]|6aab1165-508d-455...|      3|     0|       Usado| Apartamento|Residencial|   1|           Cascadura|  Zona Norte|      98.0|   1.0|Venda|230000.0|\n",
            "+-----+----------+---------+---------+--------------------+--------------------+-------+------+------------+------------+-----------+----+--------------------+------------+----------+------+-----+--------+\n",
            "only showing top 20 rows\n",
            "\n",
            "CPU times: user 9.81 ms, sys: 1.39 ms, total: 11.2 ms\n",
            "Wall time: 1.13 s\n"
          ]
        }
      ],
      "source": [
        "# Arquivo .parquet\n",
        "%%time\n",
        "\n",
        "parquet_file = spark.read.parquet('/content/drive/MyDrive/Alura/Challenge_2/anuncio/parquet')\n",
        "parquet_file.show()"
      ]
    },
    {
      "cell_type": "code",
      "execution_count": null,
      "metadata": {
        "id": "rxAyrBugvdko",
        "colab": {
          "base_uri": "https://localhost:8080/"
        },
        "outputId": "a119d417-fda8-42e7-f276-c5a21246f244"
      },
      "outputs": [
        {
          "output_type": "stream",
          "name": "stdout",
          "text": [
            "+-----------------------------------------------------------------------------------------------------------------------------------------------------+\n",
            "|andar;area_total;area_util;banheiros;caracteristicas;id;quartos;suites;tipo_anuncio;tipo_unidade;tipo_uso;vaga;bairro;zona;condominio;iptu;tipo;valor|\n",
            "+-----------------------------------------------------------------------------------------------------------------------------------------------------+\n",
            "|                                                                                                                                 0;43.0;43.0;1;Chu...|\n",
            "|                                                                                                                                 0;44.0;44.0;1;\"\";...|\n",
            "|                                                                                                                                 4;;55.0;1;\"\";1fa1...|\n",
            "|                                                                                                                                 2;;55.0;1;\"\";a6ab...|\n",
            "|                                                                                                                                 0;;50.0;1;\"\";1d8f...|\n",
            "|                                                                                                                                 2;47.0;47.0;1;Con...|\n",
            "|                                                                                                                                 0;17089.0;45.0;1;...|\n",
            "|                                                                                                                                 3;48.0;48.0;1;Chu...|\n",
            "|                                                                                                                                 9;;55.0;1;Churras...|\n",
            "|                                                                                                                                 0;70.0;70.0;2;Sal...|\n",
            "|                                                                                                                                 2;50.0;48.0;1;Con...|\n",
            "|                                                                                                                                 5;40.0;40.0;1;Pla...|\n",
            "|                                                                                                                                 0;65.0;65.0;1;\"\";...|\n",
            "|                                                                                                                                 2;50.0;50.0;1;Con...|\n",
            "|                                                                                                                                 5;45.0;45.0;1;Aca...|\n",
            "|                                                                                                                                 0;48.0;48.0;1;Aca...|\n",
            "|                                                                                                                                 0;44.0;44.0;1;Aca...|\n",
            "|                                                                                                                                 2;64.0;64.0;1;\"\";...|\n",
            "|                                                                                                                                 0;55.0;55.0;2;Sal...|\n",
            "|                                                                                                                                 3;60.0;60.0;1;Ani...|\n",
            "+-----------------------------------------------------------------------------------------------------------------------------------------------------+\n",
            "only showing top 20 rows\n",
            "\n",
            "CPU times: user 13.1 ms, sys: 2.46 ms, total: 15.6 ms\n",
            "Wall time: 1.2 s\n"
          ]
        }
      ],
      "source": [
        "# Arquivo .csv\n",
        "%%time\n",
        "\n",
        "csv_file = spark.read.option('header',True).csv('/content/drive/MyDrive/Alura/Challenge_2/anuncio/csv')\n",
        "csv_file.show()"
      ]
    },
    {
      "cell_type": "markdown",
      "metadata": {
        "id": "AlDhnNx9wgAk"
      },
      "source": [
        "\n",
        "#Seleção de features"
      ]
    },
    {
      "cell_type": "code",
      "execution_count": null,
      "metadata": {
        "id": "r2MtM-7Lw5Xz",
        "colab": {
          "base_uri": "https://localhost:8080/"
        },
        "outputId": "f3df6979-ed95-4749-e37d-5ab704ca307d"
      },
      "outputs": [
        {
          "output_type": "execute_result",
          "data": {
            "text/plain": [
              "   andar  area_total  area_util  banheiros  \\\n",
              "0      0        43.0       43.0          1   \n",
              "1      0        44.0       44.0          1   \n",
              "2      4         NaN       55.0          1   \n",
              "\n",
              "                                     caracteristicas  \\\n",
              "0  [Churrasqueira, Academia, Playground, Salão de...   \n",
              "1                                                 []   \n",
              "2                                                 []   \n",
              "\n",
              "                                     id  quartos  suites tipo_anuncio  \\\n",
              "0  03a386b6-7ab8-4eff-891d-f8a16efc1989        2     NaN        Usado   \n",
              "1  1fe78d41-b8e0-4d21-a1a8-72cb7863f441        2     0.0        Usado   \n",
              "2  1fa1c1e5-e98c-433f-9675-1b43d7d6da01        2     0.0        Usado   \n",
              "\n",
              "  tipo_unidade     tipo_uso  vaga    bairro        zona  condominio  iptu  \\\n",
              "0  Apartamento  Residencial     1  Realengo  Zona Oeste       285.0   NaN   \n",
              "1  Apartamento  Residencial     0     Irajá  Zona Norte       170.0   0.0   \n",
              "2  Apartamento  Residencial     1    Cosmos  Zona Oeste         NaN   NaN   \n",
              "\n",
              "    tipo     valor  \n",
              "0  Venda   22999.0  \n",
              "1  Venda  110000.0  \n",
              "2  Venda  115000.0  "
            ],
            "text/html": [
              "\n",
              "  <div id=\"df-0fae3ca9-c8b4-43c2-b970-421653a5baff\">\n",
              "    <div class=\"colab-df-container\">\n",
              "      <div>\n",
              "<style scoped>\n",
              "    .dataframe tbody tr th:only-of-type {\n",
              "        vertical-align: middle;\n",
              "    }\n",
              "\n",
              "    .dataframe tbody tr th {\n",
              "        vertical-align: top;\n",
              "    }\n",
              "\n",
              "    .dataframe thead th {\n",
              "        text-align: right;\n",
              "    }\n",
              "</style>\n",
              "<table border=\"1\" class=\"dataframe\">\n",
              "  <thead>\n",
              "    <tr style=\"text-align: right;\">\n",
              "      <th></th>\n",
              "      <th>andar</th>\n",
              "      <th>area_total</th>\n",
              "      <th>area_util</th>\n",
              "      <th>banheiros</th>\n",
              "      <th>caracteristicas</th>\n",
              "      <th>id</th>\n",
              "      <th>quartos</th>\n",
              "      <th>suites</th>\n",
              "      <th>tipo_anuncio</th>\n",
              "      <th>tipo_unidade</th>\n",
              "      <th>tipo_uso</th>\n",
              "      <th>vaga</th>\n",
              "      <th>bairro</th>\n",
              "      <th>zona</th>\n",
              "      <th>condominio</th>\n",
              "      <th>iptu</th>\n",
              "      <th>tipo</th>\n",
              "      <th>valor</th>\n",
              "    </tr>\n",
              "  </thead>\n",
              "  <tbody>\n",
              "    <tr>\n",
              "      <th>0</th>\n",
              "      <td>0</td>\n",
              "      <td>43.0</td>\n",
              "      <td>43.0</td>\n",
              "      <td>1</td>\n",
              "      <td>[Churrasqueira, Academia, Playground, Salão de...</td>\n",
              "      <td>03a386b6-7ab8-4eff-891d-f8a16efc1989</td>\n",
              "      <td>2</td>\n",
              "      <td>NaN</td>\n",
              "      <td>Usado</td>\n",
              "      <td>Apartamento</td>\n",
              "      <td>Residencial</td>\n",
              "      <td>1</td>\n",
              "      <td>Realengo</td>\n",
              "      <td>Zona Oeste</td>\n",
              "      <td>285.0</td>\n",
              "      <td>NaN</td>\n",
              "      <td>Venda</td>\n",
              "      <td>22999.0</td>\n",
              "    </tr>\n",
              "    <tr>\n",
              "      <th>1</th>\n",
              "      <td>0</td>\n",
              "      <td>44.0</td>\n",
              "      <td>44.0</td>\n",
              "      <td>1</td>\n",
              "      <td>[]</td>\n",
              "      <td>1fe78d41-b8e0-4d21-a1a8-72cb7863f441</td>\n",
              "      <td>2</td>\n",
              "      <td>0.0</td>\n",
              "      <td>Usado</td>\n",
              "      <td>Apartamento</td>\n",
              "      <td>Residencial</td>\n",
              "      <td>0</td>\n",
              "      <td>Irajá</td>\n",
              "      <td>Zona Norte</td>\n",
              "      <td>170.0</td>\n",
              "      <td>0.0</td>\n",
              "      <td>Venda</td>\n",
              "      <td>110000.0</td>\n",
              "    </tr>\n",
              "    <tr>\n",
              "      <th>2</th>\n",
              "      <td>4</td>\n",
              "      <td>NaN</td>\n",
              "      <td>55.0</td>\n",
              "      <td>1</td>\n",
              "      <td>[]</td>\n",
              "      <td>1fa1c1e5-e98c-433f-9675-1b43d7d6da01</td>\n",
              "      <td>2</td>\n",
              "      <td>0.0</td>\n",
              "      <td>Usado</td>\n",
              "      <td>Apartamento</td>\n",
              "      <td>Residencial</td>\n",
              "      <td>1</td>\n",
              "      <td>Cosmos</td>\n",
              "      <td>Zona Oeste</td>\n",
              "      <td>NaN</td>\n",
              "      <td>NaN</td>\n",
              "      <td>Venda</td>\n",
              "      <td>115000.0</td>\n",
              "    </tr>\n",
              "  </tbody>\n",
              "</table>\n",
              "</div>\n",
              "      <button class=\"colab-df-convert\" onclick=\"convertToInteractive('df-0fae3ca9-c8b4-43c2-b970-421653a5baff')\"\n",
              "              title=\"Convert this dataframe to an interactive table.\"\n",
              "              style=\"display:none;\">\n",
              "        \n",
              "  <svg xmlns=\"http://www.w3.org/2000/svg\" height=\"24px\"viewBox=\"0 0 24 24\"\n",
              "       width=\"24px\">\n",
              "    <path d=\"M0 0h24v24H0V0z\" fill=\"none\"/>\n",
              "    <path d=\"M18.56 5.44l.94 2.06.94-2.06 2.06-.94-2.06-.94-.94-2.06-.94 2.06-2.06.94zm-11 1L8.5 8.5l.94-2.06 2.06-.94-2.06-.94L8.5 2.5l-.94 2.06-2.06.94zm10 10l.94 2.06.94-2.06 2.06-.94-2.06-.94-.94-2.06-.94 2.06-2.06.94z\"/><path d=\"M17.41 7.96l-1.37-1.37c-.4-.4-.92-.59-1.43-.59-.52 0-1.04.2-1.43.59L10.3 9.45l-7.72 7.72c-.78.78-.78 2.05 0 2.83L4 21.41c.39.39.9.59 1.41.59.51 0 1.02-.2 1.41-.59l7.78-7.78 2.81-2.81c.8-.78.8-2.07 0-2.86zM5.41 20L4 18.59l7.72-7.72 1.47 1.35L5.41 20z\"/>\n",
              "  </svg>\n",
              "      </button>\n",
              "      \n",
              "  <style>\n",
              "    .colab-df-container {\n",
              "      display:flex;\n",
              "      flex-wrap:wrap;\n",
              "      gap: 12px;\n",
              "    }\n",
              "\n",
              "    .colab-df-convert {\n",
              "      background-color: #E8F0FE;\n",
              "      border: none;\n",
              "      border-radius: 50%;\n",
              "      cursor: pointer;\n",
              "      display: none;\n",
              "      fill: #1967D2;\n",
              "      height: 32px;\n",
              "      padding: 0 0 0 0;\n",
              "      width: 32px;\n",
              "    }\n",
              "\n",
              "    .colab-df-convert:hover {\n",
              "      background-color: #E2EBFA;\n",
              "      box-shadow: 0px 1px 2px rgba(60, 64, 67, 0.3), 0px 1px 3px 1px rgba(60, 64, 67, 0.15);\n",
              "      fill: #174EA6;\n",
              "    }\n",
              "\n",
              "    [theme=dark] .colab-df-convert {\n",
              "      background-color: #3B4455;\n",
              "      fill: #D2E3FC;\n",
              "    }\n",
              "\n",
              "    [theme=dark] .colab-df-convert:hover {\n",
              "      background-color: #434B5C;\n",
              "      box-shadow: 0px 1px 3px 1px rgba(0, 0, 0, 0.15);\n",
              "      filter: drop-shadow(0px 1px 2px rgba(0, 0, 0, 0.3));\n",
              "      fill: #FFFFFF;\n",
              "    }\n",
              "  </style>\n",
              "\n",
              "      <script>\n",
              "        const buttonEl =\n",
              "          document.querySelector('#df-0fae3ca9-c8b4-43c2-b970-421653a5baff button.colab-df-convert');\n",
              "        buttonEl.style.display =\n",
              "          google.colab.kernel.accessAllowed ? 'block' : 'none';\n",
              "\n",
              "        async function convertToInteractive(key) {\n",
              "          const element = document.querySelector('#df-0fae3ca9-c8b4-43c2-b970-421653a5baff');\n",
              "          const dataTable =\n",
              "            await google.colab.kernel.invokeFunction('convertToInteractive',\n",
              "                                                     [key], {});\n",
              "          if (!dataTable) return;\n",
              "\n",
              "          const docLinkHtml = 'Like what you see? Visit the ' +\n",
              "            '<a target=\"_blank\" href=https://colab.research.google.com/notebooks/data_table.ipynb>data table notebook</a>'\n",
              "            + ' to learn more about interactive tables.';\n",
              "          element.innerHTML = '';\n",
              "          dataTable['output_type'] = 'display_data';\n",
              "          await google.colab.output.renderOutput(dataTable, element);\n",
              "          const docLink = document.createElement('div');\n",
              "          docLink.innerHTML = docLinkHtml;\n",
              "          element.appendChild(docLink);\n",
              "        }\n",
              "      </script>\n",
              "    </div>\n",
              "  </div>\n",
              "  "
            ]
          },
          "metadata": {},
          "execution_count": 46
        }
      ],
      "source": [
        "anuncio.limit(3).toPandas()"
      ]
    },
    {
      "cell_type": "code",
      "execution_count": null,
      "metadata": {
        "id": "EBh1WhAmjRAb",
        "colab": {
          "base_uri": "https://localhost:8080/"
        },
        "outputId": "5d70df89-1b5f-4f5f-db67-ac95ad969efb"
      },
      "outputs": [
        {
          "output_type": "stream",
          "name": "stdout",
          "text": [
            "root\n",
            " |-- andar: integer (nullable = true)\n",
            " |-- area_total: double (nullable = true)\n",
            " |-- area_util: double (nullable = true)\n",
            " |-- banheiros: integer (nullable = true)\n",
            " |-- caracteristicas: array (nullable = true)\n",
            " |    |-- element: string (containsNull = true)\n",
            " |-- id: string (nullable = true)\n",
            " |-- quartos: integer (nullable = true)\n",
            " |-- suites: integer (nullable = true)\n",
            " |-- tipo_anuncio: string (nullable = true)\n",
            " |-- tipo_unidade: string (nullable = true)\n",
            " |-- tipo_uso: string (nullable = true)\n",
            " |-- vaga: integer (nullable = true)\n",
            " |-- bairro: string (nullable = true)\n",
            " |-- zona: string (nullable = true)\n",
            " |-- condominio: double (nullable = true)\n",
            " |-- iptu: double (nullable = true)\n",
            " |-- tipo: string (nullable = true)\n",
            " |-- valor: double (nullable = true)\n",
            "\n"
          ]
        }
      ],
      "source": [
        "anuncio.printSchema()"
      ]
    },
    {
      "cell_type": "code",
      "execution_count": null,
      "metadata": {
        "id": "GvBodOtWjgHF"
      },
      "outputs": [],
      "source": [
        "#Verificando a semelhança das colunas area_total e area_util \n",
        "areas_iguais = anuncio.where(anuncio[\"area_total\"] == anuncio[\"area_util\"]).count()\n",
        "total = anuncio.count()"
      ]
    },
    {
      "cell_type": "code",
      "execution_count": null,
      "metadata": {
        "id": "MBpFmt0Wi4bT",
        "colab": {
          "base_uri": "https://localhost:8080/"
        },
        "outputId": "c0bec2ed-6d70-4f61-93e0-08b4abd7ca6f"
      },
      "outputs": [
        {
          "output_type": "stream",
          "name": "stdout",
          "text": [
            "O número de valores iguais de área total e area útil é: 55185\n",
            " Isso representa 83.18% do dataset\n"
          ]
        }
      ],
      "source": [
        "print(f\"O número de valores iguais de área total e area útil é: {areas_iguais}\\n Isso representa {areas_iguais/total*100:.2f}% do dataset\")"
      ]
    },
    {
      "cell_type": "code",
      "execution_count": null,
      "metadata": {
        "id": "7POfne2Jg0og",
        "colab": {
          "base_uri": "https://localhost:8080/"
        },
        "outputId": "62243166-30e1-4a2f-bf48-04a3c1da6830"
      },
      "outputs": [
        {
          "output_type": "stream",
          "name": "stdout",
          "text": [
            "+---------+----------+\n",
            "|area_util|area_total|\n",
            "+---------+----------+\n",
            "|        0|      9186|\n",
            "+---------+----------+\n",
            "\n"
          ]
        }
      ],
      "source": [
        "#Vemos que a coluna area_total tem 9186 valores nulos, ou seja, essa coluna pode ser excluída de nosso dataset devido a sua semelhança coma coluna area_util e seu número de valores nulos\n",
        "anuncio\\\n",
        "    .select([f.count(f.when(f.isnan(c) | f.isnull(c), True)).alias(c) for c in ['area_util', 'area_total']])\\\n",
        "    .show()"
      ]
    },
    {
      "cell_type": "code",
      "execution_count": null,
      "metadata": {
        "id": "4jMqOKXZhGfn"
      },
      "outputs": [],
      "source": [
        "anuncio = anuncio.drop('area_total')"
      ]
    },
    {
      "cell_type": "code",
      "source": [
        "#Separando as características de nosso dataset\n",
        "anuncio_sup = anuncio.select(f.explode('caracteristicas')).distinct().show()"
      ],
      "metadata": {
        "colab": {
          "base_uri": "https://localhost:8080/"
        },
        "id": "SgbUjPCEIkzi",
        "outputId": "415ea84c-737c-498e-e213-a2ca84b0f120"
      },
      "execution_count": null,
      "outputs": [
        {
          "output_type": "stream",
          "name": "stdout",
          "text": [
            "+------------------+\n",
            "|               col|\n",
            "+------------------+\n",
            "|Condomínio fechado|\n",
            "|        Playground|\n",
            "| Portão eletrônico|\n",
            "|           Piscina|\n",
            "|Animais permitidos|\n",
            "|      Portaria 24h|\n",
            "|          Elevador|\n",
            "|          Academia|\n",
            "|   Salão de festas|\n",
            "|     Churrasqueira|\n",
            "+------------------+\n",
            "\n"
          ]
        }
      ]
    },
    {
      "cell_type": "code",
      "source": [
        "lista_caracteristicas = ['Condomínio fechado','Playground','Portão eletrônico','Piscina','Animais permitidos','Portaria 24h'\\\n",
        "                         ,'Elevador','Academia','Salão de festas','Churrasqueira']"
      ],
      "metadata": {
        "id": "BI-c0Xr2JWly"
      },
      "execution_count": null,
      "outputs": []
    },
    {
      "cell_type": "code",
      "source": [
        "for coluna in lista_caracteristicas:\n",
        "  anuncio = anuncio.withColumn(coluna,f.when(f.array_contains(f.col(\"caracteristicas\"),coluna) == 'true',f.lit(1)).otherwise(0))"
      ],
      "metadata": {
        "id": "Y4yRxA1jL76E"
      },
      "execution_count": null,
      "outputs": []
    },
    {
      "cell_type": "code",
      "source": [
        "anuncio = anuncio.drop('caracteristicas')"
      ],
      "metadata": {
        "id": "yzmFJZU8NsSL"
      },
      "execution_count": null,
      "outputs": []
    },
    {
      "cell_type": "markdown",
      "source": [
        "#Tratamento de dados nulos"
      ],
      "metadata": {
        "id": "X61mQZdMNM4t"
      }
    },
    {
      "cell_type": "code",
      "source": [
        "anuncio\\\n",
        "    .select([f.count(f.when(f.isnan(c) | f.isnull(c), True)).alias(c) for c in anuncio.columns])\\\n",
        "    .show()"
      ],
      "metadata": {
        "colab": {
          "base_uri": "https://localhost:8080/"
        },
        "id": "eyNXZ3stMLMY",
        "outputId": "6096a678-23a8-46c6-9f56-a11f2c16e23f"
      },
      "execution_count": null,
      "outputs": [
        {
          "output_type": "stream",
          "name": "stdout",
          "text": [
            "+-----+---------+---------+---+-------+------+------------+------------+--------+----+------+----+----------+----+----+-----+------------------+----------+-----------------+-------+------------------+------------+--------+--------+---------------+-------------+\n",
            "|andar|area_util|banheiros| id|quartos|suites|tipo_anuncio|tipo_unidade|tipo_uso|vaga|bairro|zona|condominio|iptu|tipo|valor|Condomínio fechado|Playground|Portão eletrônico|Piscina|Animais permitidos|Portaria 24h|Elevador|Academia|Salão de festas|Churrasqueira|\n",
            "+-----+---------+---------+---+-------+------+------------+------------+--------+----+------+----+----------+----+----+-----+------------------+----------+-----------------+-------+------------------+------------+--------+--------+---------------+-------------+\n",
            "|    0|        0|        0|  0|      0|  5544|           0|           0|       0|3008|     0|   0|      2347|7155|   0|    0|                 0|         0|                0|      0|                 0|           0|       0|       0|              0|            0|\n",
            "+-----+---------+---------+---+-------+------+------------+------------+--------+----+------+----+----------+----+----+-----+------------------+----------+-----------------+-------+------------------+------------+--------+--------+---------------+-------------+\n",
            "\n"
          ]
        }
      ]
    },
    {
      "cell_type": "markdown",
      "source": [],
      "metadata": {
        "id": "xU2rLDp9X09W"
      }
    },
    {
      "cell_type": "code",
      "source": [
        "#Utilizando a biblioteca ml para substituir os dados faltantes pela mediana dos dados\n",
        "from pyspark.ml.feature import Imputer\n",
        "\n",
        "imputer = Imputer(\n",
        "    inputCols=['suites', 'vaga', 'condominio', 'iptu'], \n",
        "    outputCols=['suites', 'vaga', 'condominio', 'iptu']\n",
        "    ).setStrategy(\"median\")"
      ],
      "metadata": {
        "id": "YzZI8atpNfOB"
      },
      "execution_count": null,
      "outputs": []
    },
    {
      "cell_type": "code",
      "source": [
        "anuncio = imputer.fit(anuncio).transform(anuncio)"
      ],
      "metadata": {
        "id": "sgF-RClzQHmU"
      },
      "execution_count": null,
      "outputs": []
    },
    {
      "cell_type": "code",
      "source": [
        "#Existem valores cuja zona está vazia, esses dados serão retirados do dataset\n",
        "anuncio\\\n",
        "    .groupBy('zona')\\\n",
        "    .count()\\\n",
        "    .orderBy('count', ascending = False)\\\n",
        "    .show(5)"
      ],
      "metadata": {
        "colab": {
          "base_uri": "https://localhost:8080/"
        },
        "id": "Y3ftgZ5HQJa3",
        "outputId": "b43155d3-b65c-4891-b1f7-990f1cc40604"
      },
      "execution_count": null,
      "outputs": [
        {
          "output_type": "stream",
          "name": "stdout",
          "text": [
            "+------------+-----+\n",
            "|        zona|count|\n",
            "+------------+-----+\n",
            "|  Zona Oeste|32879|\n",
            "|    Zona Sul|20471|\n",
            "|  Zona Norte|11853|\n",
            "|Zona Central| 1134|\n",
            "|            |   11|\n",
            "+------------+-----+\n",
            "\n"
          ]
        }
      ]
    },
    {
      "cell_type": "markdown",
      "source": [],
      "metadata": {
        "id": "IZuKPDFqQnwS"
      }
    },
    {
      "cell_type": "code",
      "source": [
        "anuncio = anuncio\\\n",
        "    .where(f.col('zona') != '')"
      ],
      "metadata": {
        "id": "TPfRKwjzQiH6"
      },
      "execution_count": null,
      "outputs": []
    },
    {
      "cell_type": "code",
      "source": [
        "#Criando as variáveis dummy para a coluna de zona\n",
        "zona = anuncio\\\n",
        "    .groupBy('id')\\\n",
        "    .pivot('zona')\\\n",
        "    .agg(f.lit(1))\\\n",
        "    .na\\\n",
        "    .fill(0)\n"
      ],
      "metadata": {
        "id": "G46njRK1RX_v"
      },
      "execution_count": null,
      "outputs": []
    },
    {
      "cell_type": "code",
      "source": [
        "anuncio = anuncio\\\n",
        "    .join(zona, 'id', how='inner')"
      ],
      "metadata": {
        "id": "fV4nVnquRZ0w"
      },
      "execution_count": null,
      "outputs": []
    },
    {
      "cell_type": "code",
      "source": [
        "anuncio = anuncio.drop('zona')"
      ],
      "metadata": {
        "id": "lYveLV8ySuzh"
      },
      "execution_count": null,
      "outputs": []
    },
    {
      "cell_type": "markdown",
      "source": [
        "#Salvado o arquivo em formato Parquet"
      ],
      "metadata": {
        "id": "mndYJiIDTLGz"
      }
    },
    {
      "cell_type": "code",
      "source": [
        "# No dataset há colunas com acento e letras maiusculas em seus nomes\n",
        "colunas = anuncio.columns\n",
        "colunas"
      ],
      "metadata": {
        "colab": {
          "base_uri": "https://localhost:8080/"
        },
        "id": "x7lewnY1TTkb",
        "outputId": "caefcc09-17d5-41c6-c94e-5d15e74fc7ce"
      },
      "execution_count": null,
      "outputs": [
        {
          "output_type": "execute_result",
          "data": {
            "text/plain": [
              "['id',\n",
              " 'andar',\n",
              " 'area_util',\n",
              " 'banheiros',\n",
              " 'quartos',\n",
              " 'suites',\n",
              " 'tipo_anuncio',\n",
              " 'tipo_unidade',\n",
              " 'tipo_uso',\n",
              " 'vaga',\n",
              " 'bairro',\n",
              " 'condominio',\n",
              " 'iptu',\n",
              " 'tipo',\n",
              " 'valor',\n",
              " 'Condomínio fechado',\n",
              " 'Playground',\n",
              " 'Portão eletrônico',\n",
              " 'Piscina',\n",
              " 'Animais permitidos',\n",
              " 'Portaria 24h',\n",
              " 'Elevador',\n",
              " 'Academia',\n",
              " 'Salão de festas',\n",
              " 'Churrasqueira',\n",
              " 'Zona Central',\n",
              " 'Zona Norte',\n",
              " 'Zona Oeste',\n",
              " 'Zona Sul']"
            ]
          },
          "metadata": {},
          "execution_count": 64
        }
      ]
    },
    {
      "cell_type": "code",
      "source": [
        "colunas_novas = [\n",
        "    'id',\n",
        "    'andar',\n",
        "    'area_util',\n",
        "    'banheiros',\n",
        "    'quartos',\n",
        "    'suites',\n",
        "    'tipo_anuncio',\n",
        "    'tipo_unidade',\n",
        "    'tipo_uso',\n",
        "    'vaga',\n",
        "    'bairro',\n",
        "    'condominio',\n",
        "    'iptu',\n",
        "    'tipo',\n",
        "    'valor',\n",
        "    'condominio_fechado',\n",
        "    'playground',\n",
        "    'portao_eletronico',\n",
        "    'piscina',\n",
        "    'animais_permitidos',\n",
        "    'portaria_24h',\n",
        "    'elevador',\n",
        "    'academia',\n",
        "    'salao_de_festas',\n",
        "    'churrasqueira',\n",
        "    'zona_central',\n",
        "    'zona_norte',\n",
        "    'zona_oeste',\n",
        "    'zona_sul',    \n",
        "]"
      ],
      "metadata": {
        "id": "dSv7B0q2TbL-"
      },
      "execution_count": null,
      "outputs": []
    },
    {
      "cell_type": "code",
      "source": [
        "colunas_nomes = zip(colunas, colunas_novas)"
      ],
      "metadata": {
        "id": "2ZuhCYk9Ti-Z"
      },
      "execution_count": null,
      "outputs": []
    },
    {
      "cell_type": "code",
      "source": [
        "for colunas, novas in colunas_nomes:\n",
        "  anuncio = anuncio.withColumnRenamed(colunas, novas)\n",
        "  "
      ],
      "metadata": {
        "id": "7KB_4BwDTnym"
      },
      "execution_count": null,
      "outputs": []
    },
    {
      "cell_type": "code",
      "source": [
        "anuncio.show(3,False)"
      ],
      "metadata": {
        "colab": {
          "base_uri": "https://localhost:8080/"
        },
        "id": "2h_37S90Ts3a",
        "outputId": "16fcab3f-422c-43c8-cf99-624f33304e37"
      },
      "execution_count": null,
      "outputs": [
        {
          "output_type": "stream",
          "name": "stdout",
          "text": [
            "+------------------------------------+-----+---------+---------+-------+------+------------+------------+-----------+----+-----------+----------+------+-----+---------+------------------+----------+-----------------+-------+------------------+------------+--------+--------+---------------+-------------+------------+----------+----------+--------+\n",
            "|id                                  |andar|area_util|banheiros|quartos|suites|tipo_anuncio|tipo_unidade|tipo_uso   |vaga|bairro     |condominio|iptu  |tipo |valor    |condominio_fechado|playground|portao_eletronico|piscina|animais_permitidos|portaria_24h|elevador|academia|salao_de_festas|churrasqueira|zona_central|zona_norte|zona_oeste|zona_sul|\n",
            "+------------------------------------+-----+---------+---------+-------+------+------------+------------+-----------+----+-----------+----------+------+-----+---------+------------------+----------+-----------------+-------+------------------+------------+--------+--------+---------------+-------------+------------+----------+----------+--------+\n",
            "|00012605-9cae-45b3-82a2-f09d117fa7a4|0    |410.0    |3        |4      |1     |Usado       |Apartamento |Residencial|1   |Ipanema    |3300.0    |5780.0|Venda|4600000.0|0                 |0         |0                |0      |0                 |0           |1       |0       |0              |0            |0           |0         |0         |1       |\n",
            "|0002dfaf-7735-481b-8523-8f59fb87e4e1|1    |50.0     |1        |1      |1     |Usado       |Apartamento |Residencial|1   |Vila Isabel|500.0     |600.0 |Venda|360000.0 |0                 |0         |1                |0      |1                 |0           |1       |0       |1              |0            |0           |1         |0         |0       |\n",
            "|0003ce76-949d-4841-90ec-7abea911ce6a|0    |148.0    |4        |4      |2     |Usado       |Apartamento |Residencial|2   |Jacarepaguá|0.0       |0.0   |Venda|1200000.0|0                 |0         |0                |1      |0                 |0           |1       |0       |0              |1            |0           |0         |1         |0       |\n",
            "+------------------------------------+-----+---------+---------+-------+------+------------+------------+-----------+----+-----------+----------+------+-----+---------+------------------+----------+-----------------+-------+------------------+------------+--------+--------+---------------+-------------+------------+----------+----------+--------+\n",
            "only showing top 3 rows\n",
            "\n"
          ]
        }
      ]
    },
    {
      "cell_type": "code",
      "source": [
        "anuncio.withColumnRenamed('salao_de_festas', 'churrasqueira')"
      ],
      "metadata": {
        "colab": {
          "base_uri": "https://localhost:8080/"
        },
        "id": "mMIi0fbfYHiR",
        "outputId": "8ba4e00c-b338-4c59-fbc7-552f56d8c958"
      },
      "execution_count": null,
      "outputs": [
        {
          "output_type": "execute_result",
          "data": {
            "text/plain": [
              "DataFrame[id: string, andar: int, area_util: double, banheiros: int, quartos: int, suites: int, tipo_anuncio: string, tipo_unidade: string, tipo_uso: string, vaga: int, bairro: string, condominio: double, iptu: double, tipo: string, valor: double, condominio_fechado: int, playground: int, portao_eletronico: int, piscina: int, animais_permitidos: int, portaria_24h: int, elevador: int, academia: int, churrasqueira: int, churrasqueira: int, zona_central: int, zona_norte: int, zona_oeste: int, zona_sul: int]"
            ]
          },
          "metadata": {},
          "execution_count": 69
        }
      ]
    },
    {
      "cell_type": "code",
      "source": [
        "#Salvando o arquivo preparado para modelagem em formato parquet\n",
        "anuncio.write.parquet(\n",
        "    path='/content/drive/MyDrive/Alura/Challenge_2/anuncio/parquet', \n",
        "    mode='overwrite')"
      ],
      "metadata": {
        "id": "z9iiSwUgR_jQ"
      },
      "execution_count": null,
      "outputs": []
    }
  ],
  "metadata": {
    "colab": {
      "collapsed_sections": [
        "CtCo7ywiXjMm",
        "iTfJSqFTXb5D",
        "ENON8Dn5e7P6",
        "I8Pw578kveb9"
      ],
      "provenance": [],
      "authorship_tag": "ABX9TyPylm8m3rjeUL1nteNhTTPi",
      "include_colab_link": true
    },
    "kernelspec": {
      "display_name": "Python 3",
      "name": "python3"
    },
    "language_info": {
      "name": "python"
    }
  },
  "nbformat": 4,
  "nbformat_minor": 0
}